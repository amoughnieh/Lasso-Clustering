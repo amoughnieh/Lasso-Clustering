{
 "cells": [
  {
   "cell_type": "code",
   "id": "initial_id",
   "metadata": {
    "collapsed": true
   },
   "source": [
    "from used_packages import *\n",
    "from models_downstream import *\n",
    "from utils import *\n",
    "sys.setrecursionlimit(10000)"
   ],
   "outputs": [],
   "execution_count": null
  },
  {
   "metadata": {
    "ExecuteTime": {
     "end_time": "2025-04-06T10:00:34.423408Z",
     "start_time": "2025-04-06T10:00:30.061164Z"
    }
   },
   "cell_type": "code",
   "source": [
    "\n",
    "data_train = pd.read_csv('train.csv', header=0)[::-1]\n",
    "states = pd.read_csv('store_states.csv', header=0)\n",
    "data_train = pd.merge(data_train, states, on='Store')\n",
    "data_train = data_train[data_train['Sales'] != 0]\n",
    "#data_train['DofWeek'] = data_train['DayOfWeek']\n",
    "#data_train['Holiday'] = data_train['StateHoliday']\n",
    "X_tr = data_train.drop(columns=['Sales', 'Customers'])\n",
    "y_tr = data_train['Sales']\n",
    "print(X_tr.columns)\n",
    "X_tr['Date'] = pd.to_datetime(X_tr['Date'])\n",
    "X_tr['Year'] = X_tr['Date'].dt.year\n",
    "X_tr['Month'] = X_tr['Date'].dt.month\n",
    "X_tr['Day'] = X_tr['Date'].dt.day\n",
    "\n",
    "X_tr = X_tr.drop(columns=['Date'])  #,'StateHoliday'\n",
    "X_tr = X_tr[['Store', 'DayOfWeek', 'Promo', 'Year', 'Month', 'Day', 'State']]\n",
    "\n",
    "X_tr = X_tr.astype(str)\n",
    "print(X_tr.columns)\n",
    "\n",
    "\n",
    "ohe = OneHotEncoder(sparse=False)\n",
    "X_encoded = ohe.fit_transform(X_tr)\n",
    "\n",
    "# Convert back to DataFrame with meaningful column names\n",
    "X_encoded = pd.DataFrame(X_encoded, columns=ohe.get_feature_names_out(X_tr.columns), index=X_tr.index)"
   ],
   "id": "25f2d9b489b20dfb",
   "outputs": [
    {
     "name": "stdout",
     "output_type": "stream",
     "text": [
      "Index(['Store', 'DayOfWeek', 'Date', 'Open', 'Promo', 'StateHoliday',\n",
      "       'SchoolHoliday', 'State'],\n",
      "      dtype='object')\n",
      "Index(['Store', 'DayOfWeek', 'Promo', 'Year', 'Month', 'Day', 'State'], dtype='object')\n"
     ]
    }
   ],
   "execution_count": 2
  },
  {
   "metadata": {},
   "cell_type": "markdown",
   "source": "# Use EE dataset to extract lasso coefs",
   "id": "56483760042c6273"
  },
  {
   "metadata": {
    "ExecuteTime": {
     "end_time": "2025-04-06T10:00:34.527823Z",
     "start_time": "2025-04-06T10:00:34.512586Z"
    }
   },
   "cell_type": "code",
   "source": [
    "sys.setrecursionlimit(10000)\n",
    "\n",
    "train_ratio = 0.9\n",
    "shuffle_data = False\n",
    "one_hot_as_input = True\n",
    "embeddings_as_input = False\n",
    "save_embeddings = False\n",
    "saved_embeddings_fname = \"embeddings.pickle\"  # set save_embeddings to True to create this file"
   ],
   "id": "c1c856100905312f",
   "outputs": [],
   "execution_count": 3
  },
  {
   "metadata": {
    "ExecuteTime": {
     "end_time": "2025-04-06T10:00:36.110462Z",
     "start_time": "2025-04-06T10:00:34.549923Z"
    }
   },
   "cell_type": "code",
   "source": [
    "f = open('feature_train_data.pickle', 'rb')\n",
    "(X, y) = pickle.load(f)\n",
    "X = X[:, 1:]\n",
    "X_or = X.copy()\n",
    "original_cols = [f'x{i}' for i in range(X.shape[1])]\n",
    "X_or = pd.DataFrame(X_or, columns=original_cols)\n",
    "num_records = len(X)\n",
    "train_size = int(train_ratio * num_records)\n",
    "\n",
    "if shuffle_data:\n",
    "    print(\"Using shuffled data\")\n",
    "    sh = np.arange(X.shape[0])\n",
    "    np.random.shuffle(sh)\n",
    "    X = X[sh]\n",
    "    y = y[sh]\n",
    "\n",
    "if embeddings_as_input:\n",
    "    print(\"Using learned embeddings as input\")\n",
    "    X = embed_features(X, saved_embeddings_fname)\n",
    "\n",
    "if X.shape[1] == 1183:\n",
    "    X = X[:, 1:]\n",
    "elif X.shape[1] == 8:\n",
    "    X = X[:, 1:]\n",
    "\n",
    "if one_hot_as_input:\n",
    "    print(\"Using one-hot encoding as input\")\n",
    "    enc = OneHotEncoder(sparse=False)\n",
    "    enc.fit(X)\n",
    "    X = enc.transform(X)\n",
    "\n",
    "\n",
    "X_EE_Full_col_names = pd.DataFrame(X, columns=enc.get_feature_names_out())"
   ],
   "id": "8b66fb49bf99e741",
   "outputs": [
    {
     "name": "stdout",
     "output_type": "stream",
     "text": [
      "Using one-hot encoding as input\n"
     ]
    }
   ],
   "execution_count": 4
  },
  {
   "metadata": {},
   "cell_type": "markdown",
   "source": [
    "# Group Lasso using bayesian optimization\n",
    "\n",
    "We want to use group lasso on 4 splits over the large dataset, each with roughly 211k datapoints, then average the coefs.\n",
    "\n",
    "We'll use bayesian optimization to find the optimal regularization parameters $\\lambda_1$ and $\\lambda_2$ based on the Sparse Group Lasso Formula:\n",
    "\n",
    "$$\\arg\\min_\\beta \\left( L(\\beta, \\mathbf{X}, \\mathbf{y}) + \\lambda_1 \\|\\beta\\|_1 + \\lambda_2 \\sum \\|\\beta_{\\text{group}}\\|_2 \\right)$$"
   ],
   "id": "5afb656b59c5078d"
  },
  {
   "metadata": {
    "ExecuteTime": {
     "end_time": "2025-04-06T10:14:06.539975Z",
     "start_time": "2025-04-06T10:00:36.132156Z"
    }
   },
   "cell_type": "code",
   "source": [
    "from utils import glasso\n",
    "\n",
    "def objective(trial):\n",
    "\n",
    "    # stratified K-Fold CV\n",
    "    skf = StratifiedKFold(n_splits=4, random_state=None, shuffle=False)\n",
    "    mape_subs = []\n",
    "    splits = skf.split(X_EE_Full_col_names, y)\n",
    "    for i, (_, test_index) in enumerate(splits):\n",
    "\n",
    "        X_sub = X_EE_Full_col_names.iloc[test_index]\n",
    "        y_sub = y[test_index]\n",
    "\n",
    "        X_train, X_test, y_train, y_test = train_test_split(X_sub, y_sub, test_size=0.1, random_state=0, shuffle=False)\n",
    "\n",
    "        print(f'Fitting Fold {i+1}/{skf.get_n_splits()} - Train size: {len(X_train)} - Test size: {len(X_test)}')\n",
    "        l1_reg = trial.suggest_float('l1_reg', 1e-6, 1e2, log=True)\n",
    "        alpha = trial.suggest_float('alpha', 1e-6, 1e2, log=True)\n",
    "        title = f'- Group-LASSO - l1 = {l1_reg}'\n",
    "        model_gl2, coefs_gl2, lam_gl2, ypred_gl, group_lass_labels, labels, mape = (\n",
    "            glasso(X_train, y_train, X_test, y_test, X_or, alpha=alpha,\n",
    "                         scoring='MAPE',\n",
    "                         no_groups=False,\n",
    "                         l1_reg=l1_reg,\n",
    "                         n_iter=50,\n",
    "                         tol=1e-3,\n",
    "                         cmap='tab10',\n",
    "                         title=title,\n",
    "                         save_plot=False,\n",
    "                         verbose=False))\n",
    "        mape_subs.append(mape)\n",
    "        print(f'\\tMAPE: {mape}')\n",
    "    mape_subs = np.array(mape_subs).mean(axis=0)\n",
    "    return mape_subs\n",
    "\n",
    "study = optuna.create_study(direction='minimize')\n",
    "study.optimize(objective, n_trials=5)\n",
    "\n",
    "print(\"Best trial:\")\n",
    "trial = study.best_trial\n",
    "print(f\"  Value: {trial.value}\")\n",
    "print(\"  Params: \")\n",
    "for key, value in trial.params.items():\n",
    "    print(f\"    {key}: {value}\")\n",
    "\n",
    "best_params = trial.params\n",
    "l1_reg_best = best_params['l1_reg']\n",
    "lambda_best = best_params['alpha']\n",
    "\n",
    "title = f'- Group-LASSO - Optuna Best - l1 = {l1_reg_best}'\n",
    "original_labels = X_EE_Full_col_names.columns.tolist()\n",
    "\n",
    "# stratified K-Fold CV\n",
    "skf = StratifiedKFold(n_splits=4, random_state=None, shuffle=False)\n",
    "skf.split(X_EE_Full_col_names, y)\n",
    "coefs_subs_best = []\n",
    "for i, (_, test_index) in enumerate(skf.split(X_EE_Full_col_names, y)):\n",
    "\n",
    "    X_sub = X_EE_Full_col_names.iloc[test_index]\n",
    "    y_sub = y[test_index]\n",
    "\n",
    "    X_train, X_test, y_train, y_test = train_test_split(X_sub, y_sub, test_size=0.1, random_state=0, shuffle=False)\n",
    "\n",
    "    model_best, coefs_best, lam_best, ypred_best, groups_best, labels_best, mape_best = (\n",
    "        glasso(X_train, y_train, X_test, y_test, X_or, alpha=lambda_best,\n",
    "                     scoring='MAPE',\n",
    "                     no_groups=False,\n",
    "                     l1_reg=l1_reg_best,\n",
    "                     n_iter=50,\n",
    "                     tol=1e-3,\n",
    "                     cmap='tab10',\n",
    "                     title=title,\n",
    "                     save_plot=True,\n",
    "                     verbose=True))\n",
    "    coefs_subs_best.append(coefs_best)"
   ],
   "id": "95bcb660999cd0e3",
   "outputs": [
    {
     "name": "stderr",
     "output_type": "stream",
     "text": [
      "[I 2025-04-06 20:00:36,138] A new study created in memory with name: no-name-529437f3-bc86-456f-9253-c5e621e893cf\n"
     ]
    },
    {
     "name": "stdout",
     "output_type": "stream",
     "text": [
      "Fitting Fold 1/4 - Train size: 189976 - Test size: 21109\n",
      "\tMAPE: 0.16919566146606388\n",
      "Fitting Fold 2/4 - Train size: 189976 - Test size: 21109\n",
      "\tMAPE: 0.19079393603356445\n",
      "Fitting Fold 3/4 - Train size: 189975 - Test size: 21109\n",
      "\tMAPE: 0.18180343939875354\n",
      "Fitting Fold 4/4 - Train size: 189975 - Test size: 21109\n",
      "\tMAPE: 0.1424591436779349\n"
     ]
    },
    {
     "name": "stderr",
     "output_type": "stream",
     "text": [
      "[I 2025-04-06 20:03:00,136] Trial 0 finished with value: 0.1710630451440792 and parameters: {'l1_reg': 0.08049470488739582, 'alpha': 0.0002708803274106217}. Best is trial 0 with value: 0.1710630451440792.\n"
     ]
    },
    {
     "name": "stdout",
     "output_type": "stream",
     "text": [
      "Fitting Fold 1/4 - Train size: 189976 - Test size: 21109\n",
      "\tMAPE: 0.1691853939119981\n",
      "Fitting Fold 2/4 - Train size: 189976 - Test size: 21109\n",
      "\tMAPE: 0.19079337054055268\n",
      "Fitting Fold 3/4 - Train size: 189975 - Test size: 21109\n",
      "\tMAPE: 0.1817893847431295\n",
      "Fitting Fold 4/4 - Train size: 189975 - Test size: 21109\n",
      "\tMAPE: 0.14246372543914518\n"
     ]
    },
    {
     "name": "stderr",
     "output_type": "stream",
     "text": [
      "[I 2025-04-06 20:05:16,108] Trial 1 finished with value: 0.17105796865870637 and parameters: {'l1_reg': 1.742767740491796e-05, 'alpha': 0.01193775370793057}. Best is trial 1 with value: 0.17105796865870637.\n"
     ]
    },
    {
     "name": "stdout",
     "output_type": "stream",
     "text": [
      "Fitting Fold 1/4 - Train size: 189976 - Test size: 21109\n",
      "\tMAPE: 0.3593592839305181\n",
      "Fitting Fold 2/4 - Train size: 189976 - Test size: 21109\n",
      "\tMAPE: 0.38519814919090956\n",
      "Fitting Fold 3/4 - Train size: 189975 - Test size: 21109\n",
      "\tMAPE: 0.33259301885355447\n",
      "Fitting Fold 4/4 - Train size: 189975 - Test size: 21109\n",
      "\tMAPE: 0.28571894531820735\n"
     ]
    },
    {
     "name": "stderr",
     "output_type": "stream",
     "text": [
      "[I 2025-04-06 20:07:18,822] Trial 2 finished with value: 0.3407173493232974 and parameters: {'l1_reg': 0.0001520020796517325, 'alpha': 39.3373032505753}. Best is trial 1 with value: 0.17105796865870637.\n"
     ]
    },
    {
     "name": "stdout",
     "output_type": "stream",
     "text": [
      "Fitting Fold 1/4 - Train size: 189976 - Test size: 21109\n",
      "\tMAPE: 0.1693196645337187\n",
      "Fitting Fold 2/4 - Train size: 189976 - Test size: 21109\n",
      "\tMAPE: 0.19093498678760457\n",
      "Fitting Fold 3/4 - Train size: 189975 - Test size: 21109\n",
      "\tMAPE: 0.1819919488885254\n",
      "Fitting Fold 4/4 - Train size: 189975 - Test size: 21109\n"
     ]
    },
    {
     "name": "stderr",
     "output_type": "stream",
     "text": [
      "[I 2025-04-06 20:09:35,309] Trial 3 finished with value: 0.17120574859342208 and parameters: {'l1_reg': 0.001577648114852033, 'alpha': 17.039947712019938}. Best is trial 1 with value: 0.17105796865870637.\n"
     ]
    },
    {
     "name": "stdout",
     "output_type": "stream",
     "text": [
      "\tMAPE: 0.14257639416383963\n",
      "Fitting Fold 1/4 - Train size: 189976 - Test size: 21109\n",
      "\tMAPE: 0.16925944771693952\n",
      "Fitting Fold 2/4 - Train size: 189976 - Test size: 21109\n",
      "\tMAPE: 0.19085228810370614\n",
      "Fitting Fold 3/4 - Train size: 189975 - Test size: 21109\n",
      "\tMAPE: 0.18189806523117688\n",
      "Fitting Fold 4/4 - Train size: 189975 - Test size: 21109\n"
     ]
    },
    {
     "name": "stderr",
     "output_type": "stream",
     "text": [
      "[I 2025-04-06 20:11:50,126] Trial 4 finished with value: 0.17113355424078658 and parameters: {'l1_reg': 1.3743422063695059, 'alpha': 1.7058971329125942e-06}. Best is trial 1 with value: 0.17105796865870637.\n"
     ]
    },
    {
     "name": "stdout",
     "output_type": "stream",
     "text": [
      "\tMAPE: 0.14252441591132378\n",
      "Best trial:\n",
      "  Value: 0.17105796865870637\n",
      "  Params: \n",
      "    l1_reg: 1.742767740491796e-05\n",
      "    alpha: 0.01193775370793057\n",
      "===============\n",
      "Original Labels\n",
      "===============\n",
      "['x0', 'x1', 'x2', 'x3', 'x4', 'x5', 'x6']\n",
      "\n",
      "===============\n",
      "Group Numbers\n",
      "===============\n",
      "[1 1 1 ... 7 7 7]\n",
      "\n",
      "1/10 lambda: 1.19e-02 - Selected features: 1108 - MAPE = 0.1691853939\n",
      "===============\n",
      "Original Labels\n",
      "===============\n",
      "['x0', 'x1', 'x2', 'x3', 'x4', 'x5', 'x6']\n",
      "\n",
      "===============\n",
      "Group Numbers\n",
      "===============\n",
      "[1 1 1 ... 7 7 7]\n",
      "\n",
      "1/10 lambda: 1.19e-02 - Selected features: 1098 - MAPE = 0.1907933705\n",
      "===============\n",
      "Original Labels\n",
      "===============\n",
      "['x0', 'x1', 'x2', 'x3', 'x4', 'x5', 'x6']\n",
      "\n",
      "===============\n",
      "Group Numbers\n",
      "===============\n",
      "[1 1 1 ... 7 7 7]\n",
      "\n",
      "1/10 lambda: 1.19e-02 - Selected features: 1106 - MAPE = 0.1817893847\n",
      "===============\n",
      "Original Labels\n",
      "===============\n",
      "['x0', 'x1', 'x2', 'x3', 'x4', 'x5', 'x6']\n",
      "\n",
      "===============\n",
      "Group Numbers\n",
      "===============\n",
      "[1 1 1 ... 7 7 7]\n",
      "\n",
      "1/10 lambda: 1.19e-02 - Selected features: 1102 - MAPE = 0.1424637254\n"
     ]
    }
   ],
   "execution_count": 5
  },
  {
   "metadata": {},
   "cell_type": "markdown",
   "source": [
    "# Mean Shift\n",
    "\n",
    "Cluster the Lasso coefficients for each group"
   ],
   "id": "4a98167188e8ed9"
  },
  {
   "metadata": {
    "ExecuteTime": {
     "end_time": "2025-04-06T11:41:29.831865Z",
     "start_time": "2025-04-06T11:41:29.814927Z"
    }
   },
   "cell_type": "code",
   "source": [
    "labels_dict = dict(zip(labels_best, ['Store', 'DayOfWeek', 'Promo', 'Year', 'Month', 'Day', 'State']))\n",
    "\n",
    "coefs_mean = np.array(coefs_subs_best).mean(axis=0)\n"
   ],
   "id": "da21b6fc326a3651",
   "outputs": [],
   "execution_count": 9
  },
  {
   "metadata": {
    "ExecuteTime": {
     "end_time": "2025-04-06T13:54:52.774255Z",
     "start_time": "2025-04-06T13:54:38.094967Z"
    }
   },
   "cell_type": "code",
   "source": [
    "from utils import cluster_mean_shift\n",
    "\n",
    "save = True\n",
    "\n",
    "main_labels_dict = dict(zip(labels_best, range(1, len(labels_best)+1)))\n",
    "\n",
    "store_dict = cluster_mean_shift(X_EE_Full_col_names, X_encoded, main_labels_dict['x0'], groups_best, labels_best, coefs_mean, labels_dict, band = 0.01, threshold=0.001, min_clusters=25, max_clusters=25, merge_middle_clusters=False, merge_threshold=0.02, xticks=False, save_plot=save, barwidth=1)\n",
    "\n",
    "\n",
    "day_dict = cluster_mean_shift(X_EE_Full_col_names, X_encoded, main_labels_dict['x5'], groups_best, labels_best, coefs_mean, labels_dict, band = 0.1, threshold=0.001, min_clusters=7, max_clusters=8, xticks=True, save_plot=save, barwidth=1)\n",
    "\n",
    "\n",
    "month_dict = cluster_mean_shift(X_EE_Full_col_names, X_encoded, main_labels_dict['x4'], groups_best, labels_best, coefs_mean, labels_dict, band = 0.1, threshold=0.001, min_clusters=3, max_clusters=5, merge_middle_clusters=False, xticks=True, save_plot=save, barwidth=1)\n",
    "\n",
    "\n",
    "dayOfWeek_dict = cluster_mean_shift(X_EE_Full_col_names, X_encoded, main_labels_dict['x1'], groups_best, labels_best, coefs_mean, labels_dict, band = 0.1, threshold=0.001, min_clusters=3, max_clusters=3, merge_middle_clusters=False, xticks=True, save_plot=save, barwidth=1)\n",
    "\n",
    "\n",
    "state_dict = cluster_mean_shift(X_EE_Full_col_names, X_encoded, main_labels_dict['x6'], groups_best, labels_best, coefs_mean, labels_dict, band = 0.1, threshold=0.001, min_clusters=3, max_clusters=4, merge_middle_clusters=False, xticks=True, save_plot=save, barwidth=1)\n",
    "\n",
    "final_dicts = [store_dict, day_dict, month_dict, dayOfWeek_dict, state_dict]\n",
    "\n",
    "X_final = X_or.copy()\n",
    "for i, d in enumerate(['x0', 'x5', 'x4', 'x1', 'x6']):\n",
    "    X_final[f'{d}'] = X_final[f'{d}'].apply(lambda x: final_dicts[i][str(x)])"
   ],
   "id": "ffef6fabc7b19866",
   "outputs": [
    {
     "data": {
      "text/plain": [
       "<Figure size 1200x200 with 1 Axes>"
      ],
      "image/png": "[encoded data removed]"
     },
     "metadata": {},
     "output_type": "display_data"
    },
    {
     "data": {
      "text/plain": [
       "<Figure size 1200x200 with 1 Axes>"
      ],
      "image/png": "[encoded data removed]"
     },
     "metadata": {},
     "output_type": "display_data"
    },
    {
     "data": {
      "text/plain": [
       "<Figure size 1200x200 with 1 Axes>"
      ],
      "image/png": "[encoded data removed]"
     },
     "metadata": {},
     "output_type": "display_data"
    },
    {
     "data": {
      "text/plain": [
       "<Figure size 1200x200 with 1 Axes>"
      ],
      "image/png": "[encoded data removed]"
     },
     "metadata": {},
     "output_type": "display_data"
    },
    {
     "data": {
      "text/plain": [
       "<Figure size 1200x200 with 1 Axes>"
      ],
      "image/png": "[encoded data removed]"
     },
     "metadata": {},
     "output_type": "display_data"
    }
   ],
   "execution_count": 76
  },
  {
   "metadata": {
    "ExecuteTime": {
     "end_time": "2025-04-06T10:14:20.331494Z",
     "start_time": "2025-04-06T10:14:20.031494Z"
    }
   },
   "cell_type": "code",
   "source": "X_tr['State'].sort_values().unique()",
   "id": "4b8e23aa437fd87",
   "outputs": [
    {
     "data": {
      "text/plain": [
       "array(['BE', 'BW', 'BY', 'HB,NI', 'HE', 'HH', 'NW', 'RP', 'SH', 'SN',\n",
       "       'ST', 'TH'], dtype=object)"
      ]
     },
     "execution_count": 8,
     "metadata": {},
     "output_type": "execute_result"
    }
   ],
   "execution_count": 8
  },
  {
   "metadata": {},
   "cell_type": "markdown",
   "source": "# plot state clusters",
   "id": "72b37dcf165f00d9"
  },
  {
   "metadata": {
    "ExecuteTime": {
     "end_time": "2025-04-07T00:38:32.496208Z",
     "start_time": "2025-04-07T00:38:22.439811Z"
    }
   },
   "cell_type": "code",
   "source": [
    "import geopandas as gpd\n",
    "import matplotlib.colors as mcolors\n",
    "from shapely.geometry import Point, Polygon, MultiPolygon\n",
    "from shapely.ops import triangulate\n",
    "\n",
    "\n",
    "url = \"https://raw.githubusercontent.com/isellsoap/deutschlandGeoJSON/main/2_bundeslaender/1_sehr_hoch.geo.json\"\n",
    "germany = gpd.read_file(url)\n",
    "\n",
    "# Dataset has HB and NI combined, hence, two abbr dictionaries. the second one to color the map\n",
    "state_name_to_abbr = {\n",
    "    'Baden-Württemberg': 'BW', 'Bayern': 'BY', 'Berlin': 'BE', 'Brandenburg': 'BB',\n",
    "    'Hamburg': 'HH', 'Hessen': 'HE', 'Mecklenburg-Vorpommern': 'MV',\n",
    "    'Niedersachsen': 'HB,NI', 'Nordrhein-Westfalen': 'NW', 'Rheinland-Pfalz': 'RP',\n",
    "    'Saarland': 'SL', 'Sachsen': 'SN', 'Sachsen-Anhalt': 'ST',\n",
    "    'Schleswig-Holstein': 'SH', 'Thüringen': 'TH'\n",
    "}\n",
    "\n",
    "state_name_to_abbr_map_color = {\n",
    "    'Baden-Württemberg': 'BW', 'Bayern': 'BY', 'Berlin': 'BE', 'Brandenburg': 'BB',\n",
    "    'Bremen': 'HB', 'Hamburg': 'HH', 'Hessen': 'HE', 'Mecklenburg-Vorpommern': 'MV',\n",
    "    'Niedersachsen': 'NI', 'Nordrhein-Westfalen': 'NW', 'Rheinland-Pfalz': 'RP',\n",
    "    'Saarland': 'SL', 'Sachsen': 'SN', 'Sachsen-Anhalt': 'ST',\n",
    "    'Schleswig-Holstein': 'SH', 'Thüringen': 'TH'\n",
    "}\n",
    "\n",
    "# Map state names to abbreviations\n",
    "germany['abbr'] = germany['name'].map(state_name_to_abbr)\n",
    "germany['abbr_map_color'] = germany['name'].map(state_name_to_abbr_map_color)\n",
    "\n",
    "# Helper functions for random point generation\n",
    "def precompute_triangulation(poly):\n",
    "    triangles = triangulate(poly)\n",
    "    areas = np.array([tri.area for tri in triangles])\n",
    "    cumulative = np.cumsum(areas)\n",
    "    total = cumulative[-1]\n",
    "    vertices = np.array([list(tri.exterior.coords)[:3] for tri in triangles])\n",
    "    return vertices, cumulative, total\n",
    "\n",
    "def random_points_vectorized(vertices, cumulative, total_area, n_points, polygon):\n",
    "    points = []\n",
    "    while len(points) < n_points:\n",
    "        r = np.random.uniform(0, total_area, size=1)\n",
    "        tri_indices = np.searchsorted(cumulative, r)\n",
    "        selected_triangles = vertices[tri_indices]\n",
    "        a = selected_triangles[:, 0, :]\n",
    "        b = selected_triangles[:, 1, :]\n",
    "        c = selected_triangles[:, 2, :]\n",
    "        r1 = np.random.rand(1)\n",
    "        r2 = np.random.rand(1)\n",
    "        mask = (r1 + r2) > 1\n",
    "        r1[mask] = 1 - r1[mask]\n",
    "        r2[mask] = 1 - r2[mask]\n",
    "        coords = a + r1[:, np.newaxis] * (b - a) + r2[:, np.newaxis] * (c - a)\n",
    "\n",
    "        # Check if point is within the state boundary\n",
    "        point = Point(coords[0][0], coords[0][1])\n",
    "        if polygon.contains(point):\n",
    "            points.append((coords[0][0], coords[0][1]))\n",
    "\n",
    "    return np.array(points)\n",
    "\n",
    "count = 1\n",
    "cluster_cutoff = 11\n",
    "unique_stores = data_train[['Store', 'State']].drop_duplicates()\n",
    "\n",
    "state_triangulations = {}\n",
    "for state_abbr in germany['abbr'].unique():\n",
    "    state_geom = germany[germany['abbr'] == state_abbr]\n",
    "    if state_geom.empty:\n",
    "        continue\n",
    "    geom = state_geom.unary_union\n",
    "    if not isinstance(geom, (Polygon, MultiPolygon)):\n",
    "        continue\n",
    "    vertices, cumulative, total_area = precompute_triangulation(geom)\n",
    "    state_triangulations[state_abbr] = (vertices, cumulative, total_area)\n",
    "\n",
    "scatter_x, scatter_y, scatter_colors = [], [], []\n",
    "\n",
    "for state_abbr, group in unique_stores.groupby('State'):\n",
    "    if state_abbr not in state_triangulations:\n",
    "        continue\n",
    "    vertices, cumulative, total_area = state_triangulations[state_abbr]\n",
    "    state_geom = germany[germany['abbr'] == state_abbr].geometry.iloc[0]\n",
    "\n",
    "    # Sort stores by cluster value\n",
    "    sorted_stores = sorted([(store, store_dict.get(str(store), np.inf)) for store in group['Store']],\n",
    "                           key=lambda x: x[1])\n",
    "\n",
    "\n",
    "    for store, cluster in sorted_stores:\n",
    "        if cluster > cluster_cutoff:\n",
    "            break\n",
    "        #print('count: ', count)\n",
    "        #print('cluster: ', cluster)\n",
    "        count += 1\n",
    "        # Generate points inside the boundary\n",
    "        coords = random_points_vectorized(vertices, cumulative, total_area, 1, state_geom)\n",
    "        scatter_x.append(coords[0][0])\n",
    "        scatter_y.append(coords[0][1])\n",
    "        scatter_colors.append(cluster)\n",
    "\n",
    "# Colormap for store_dict clusters\n",
    "all_cluster_labels = list(range(1, 26))\n",
    "store_cmap = cm.get_cmap('RdBu', 25)\n",
    "color_map = {label: store_cmap(i-1) for i, label in enumerate(all_cluster_labels)}\n",
    "color_vals = [color_map.get(c, (0.5, 0.5, 0.5)) for c in scatter_colors]\n",
    "\n",
    "germany['cluster'] = germany['name'].map(lambda x: cluster_mapping.get(state_name_to_abbr.get(x, 'Unknown'), 0))\n",
    "germany['cluster_map_color'] = germany['name'].map(lambda x: cluster_mapping.get(state_name_to_abbr_map_color.get(x, 'Unknown'), 0))\n",
    "\n",
    "fig, ax = plt.subplots(figsize=(10, 10))\n",
    "\n",
    "germany.boundary.plot(ax=ax, edgecolor='black', linewidth=0.8, zorder=1)\n",
    "\n",
    "cmap = cm.get_cmap('RdBu', 20)\n",
    "\n",
    "c1 = cmap(1)\n",
    "c2 = cmap(6)\n",
    "c3 = cmap(14)\n",
    "c4 = cmap(19)\n",
    "\n",
    "colors = ['white', c1, c2, c3, c4]\n",
    "cmap = mcolors.ListedColormap(colors)\n",
    "bounds = [-0.5, 0.5, 1.5, 2.5, 3.5, 4.5]\n",
    "norm = mcolors.BoundaryNorm(bounds, cmap.N)\n",
    "\n",
    "germany.plot(column='cluster_map_color', ax=ax, cmap=cmap, norm=norm, edgecolor='black', linewidth=0.2, zorder=2, alpha=1)\n",
    "\n",
    "ax.scatter(scatter_x, scatter_y, color=color_vals, s=300, edgecolor='white', alpha=1, zorder=4)\n",
    "\n",
    "label_adjustments = {\n",
    "    'Berlin': {'x_offset': -0.25, 'y_offset': 0.25},\n",
    "    'Brandenburg': {'x_offset': 0.4, 'y_offset': -0.6}\n",
    "}\n",
    "\n",
    "for idx, row in germany.iterrows():\n",
    "    state_name = row['name']\n",
    "    abbr = state_name_to_abbr.get(state_name, '')\n",
    "    if abbr == '':\n",
    "        continue\n",
    "    x = row.geometry.centroid.x\n",
    "    y = row.geometry.centroid.y\n",
    "    if state_name in label_adjustments:\n",
    "        x += label_adjustments[state_name]['x_offset']\n",
    "        y += label_adjustments[state_name]['y_offset']\n",
    "    ax.annotate(abbr, xy=(x, y), ha='center', va='center', fontsize=18, fontweight='bold', color='black', zorder=3)\n",
    "\n",
    "plt.axis('off')\n",
    "plt.tight_layout()\n",
    "#plt.savefig('germany_clusters_map_with_stores.pdf', bbox_inches='tight')\n",
    "plt.show()\n"
   ],
   "id": "ffbdfe257950ec8d",
   "outputs": [
    {
     "data": {
      "text/plain": [
       "<Figure size 1000x1000 with 1 Axes>"
      ],
      "image/png": "[encoded data removed]"
     },
     "metadata": {},
     "output_type": "display_data"
    }
   ],
   "execution_count": 141
  },
  {
   "metadata": {
    "ExecuteTime": {
     "end_time": "2025-04-07T00:07:16.773337Z",
     "start_time": "2025-04-07T00:07:16.521370Z"
    }
   },
   "cell_type": "code",
   "source": "np.unique(data_train['State'])",
   "id": "becfa38b9ce2ed83",
   "outputs": [
    {
     "data": {
      "text/plain": [
       "array(['BE', 'BW', 'BY', 'HB,NI', 'HE', 'HH', 'NW', 'RP', 'SH', 'SN',\n",
       "       'ST', 'TH'], dtype=object)"
      ]
     },
     "execution_count": 126,
     "metadata": {},
     "output_type": "execute_result"
    }
   ],
   "execution_count": 126
  },
  {
   "metadata": {
    "ExecuteTime": {
     "end_time": "2025-04-03T23:56:59.373142Z",
     "start_time": "2025-04-03T23:56:59.239408Z"
    }
   },
   "cell_type": "code",
   "source": [
    "d = data_train.groupby('State').agg(\n",
    "    **{\n",
    "        'No. of Stores': ('Store', 'nunique'),\n",
    "        'Total Sales': ('Sales', 'sum')\n",
    "    }\n",
    ").reset_index().sort_values(by='Total Sales', ascending=False)\n",
    "d"
   ],
   "id": "7e1d2f96c8b75bd3",
   "outputs": [
    {
     "data": {
      "text/plain": [
       "    State  No. of Stores  Total Sales\n",
       "6      NW            286   1598936483\n",
       "2      BY            180    742361827\n",
       "8      SH            115    618426981\n",
       "0      BE             92    604709903\n",
       "4      HE            112    603605998\n",
       "9      SN             75    402442109\n",
       "1      BW             73    355745661\n",
       "10     ST             56    276915114\n",
       "11     TH             36    188595349\n",
       "7      RP             40    181243703\n",
       "5      HH             28    169053366\n",
       "3   HB,NI             22    131144129"
      ],
      "text/html": [
       "<div>\n",
       "<style scoped>\n",
       "    .dataframe tbody tr th:only-of-type {\n",
       "        vertical-align: middle;\n",
       "    }\n",
       "\n",
       "    .dataframe tbody tr th {\n",
       "        vertical-align: top;\n",
       "    }\n",
       "\n",
       "    .dataframe thead th {\n",
       "        text-align: right;\n",
       "    }\n",
       "</style>\n",
       "<table border=\"1\" class=\"dataframe\">\n",
       "  <thead>\n",
       "    <tr style=\"text-align: right;\">\n",
       "      <th></th>\n",
       "      <th>State</th>\n",
       "      <th>No. of Stores</th>\n",
       "      <th>Total Sales</th>\n",
       "    </tr>\n",
       "  </thead>\n",
       "  <tbody>\n",
       "    <tr>\n",
       "      <th>6</th>\n",
       "      <td>NW</td>\n",
       "      <td>286</td>\n",
       "      <td>1598936483</td>\n",
       "    </tr>\n",
       "    <tr>\n",
       "      <th>2</th>\n",
       "      <td>BY</td>\n",
       "      <td>180</td>\n",
       "      <td>742361827</td>\n",
       "    </tr>\n",
       "    <tr>\n",
       "      <th>8</th>\n",
       "      <td>SH</td>\n",
       "      <td>115</td>\n",
       "      <td>618426981</td>\n",
       "    </tr>\n",
       "    <tr>\n",
       "      <th>0</th>\n",
       "      <td>BE</td>\n",
       "      <td>92</td>\n",
       "      <td>604709903</td>\n",
       "    </tr>\n",
       "    <tr>\n",
       "      <th>4</th>\n",
       "      <td>HE</td>\n",
       "      <td>112</td>\n",
       "      <td>603605998</td>\n",
       "    </tr>\n",
       "    <tr>\n",
       "      <th>9</th>\n",
       "      <td>SN</td>\n",
       "      <td>75</td>\n",
       "      <td>402442109</td>\n",
       "    </tr>\n",
       "    <tr>\n",
       "      <th>1</th>\n",
       "      <td>BW</td>\n",
       "      <td>73</td>\n",
       "      <td>355745661</td>\n",
       "    </tr>\n",
       "    <tr>\n",
       "      <th>10</th>\n",
       "      <td>ST</td>\n",
       "      <td>56</td>\n",
       "      <td>276915114</td>\n",
       "    </tr>\n",
       "    <tr>\n",
       "      <th>11</th>\n",
       "      <td>TH</td>\n",
       "      <td>36</td>\n",
       "      <td>188595349</td>\n",
       "    </tr>\n",
       "    <tr>\n",
       "      <th>7</th>\n",
       "      <td>RP</td>\n",
       "      <td>40</td>\n",
       "      <td>181243703</td>\n",
       "    </tr>\n",
       "    <tr>\n",
       "      <th>5</th>\n",
       "      <td>HH</td>\n",
       "      <td>28</td>\n",
       "      <td>169053366</td>\n",
       "    </tr>\n",
       "    <tr>\n",
       "      <th>3</th>\n",
       "      <td>HB,NI</td>\n",
       "      <td>22</td>\n",
       "      <td>131144129</td>\n",
       "    </tr>\n",
       "  </tbody>\n",
       "</table>\n",
       "</div>"
      ]
     },
     "execution_count": 10,
     "metadata": {},
     "output_type": "execute_result"
    }
   ],
   "execution_count": 10
  },
  {
   "metadata": {
    "ExecuteTime": {
     "end_time": "2025-04-03T23:57:00.371931Z",
     "start_time": "2025-04-03T23:56:59.436343Z"
    }
   },
   "cell_type": "code",
   "source": [
    "X_store = X_tr.copy()\n",
    "for i, d in enumerate(['Store']):\n",
    "    X_store[f'{d}'] = X_store[f'{d}'].apply(lambda x: store_dict[str(int(x)-1)])"
   ],
   "id": "fc1235925827aee5",
   "outputs": [],
   "execution_count": 11
  },
  {
   "metadata": {
    "ExecuteTime": {
     "end_time": "2025-04-03T23:58:41.894681Z",
     "start_time": "2025-04-03T23:58:41.824026Z"
    }
   },
   "cell_type": "code",
   "source": [
    "majority_state = X_store.groupby('Store')['State'].agg(lambda x: x.value_counts().idxmax())\n",
    "store_counts_per_state = majority_state.value_counts().rename(\"No. of Store Clusters with This Majority State\").rename_axis(\"State\")\n",
    "store_counts_per_state\n"
   ],
   "id": "cc00375eb0d613f6",
   "outputs": [
    {
     "data": {
      "text/plain": [
       "State\n",
       "NW    15\n",
       "SH     6\n",
       "BE     2\n",
       "HE     1\n",
       "HH     1\n",
       "Name: No. of Store Clusters with This Majority State, dtype: int64"
      ]
     },
     "execution_count": 14,
     "metadata": {},
     "output_type": "execute_result"
    }
   ],
   "execution_count": 14
  },
  {
   "metadata": {},
   "cell_type": "markdown",
   "source": "# Train Using Lasso Reduced Dimensions",
   "id": "e957bfd5649ac05"
  },
  {
   "metadata": {
    "ExecuteTime": {
     "end_time": "2025-04-03T23:58:47.493572Z",
     "start_time": "2025-04-03T23:58:46.603097Z"
    }
   },
   "cell_type": "code",
   "source": [
    "ohe = OneHotEncoder(sparse=False)  # Use sparse=False instead of sparse_output=False\n",
    "X_final_ohe = ohe.fit_transform(X_final)\n",
    "\n",
    "# Convert back to DataFrame with meaningful column names\n",
    "X_final_ohe = pd.DataFrame(X_final_ohe, columns=ohe.get_feature_names_out(X_final.columns), index=X_final.index)\n",
    "\n",
    "X = X_final_ohe.copy()\n",
    "\n",
    "train_ratio = 0.9\n",
    "\n",
    "num_records = len(X)\n",
    "train_size = int(train_ratio * num_records)\n",
    "\n",
    "X_train = np.array(X[:train_size])\n",
    "X_val = np.array(X[train_size:])\n",
    "y_train = np.array(y[:train_size])\n",
    "y_val = np.array(y[train_size:])\n",
    "\n",
    "print(\"Using LASSO clusters as input\")\n",
    "X_train, y_train, idx, seed_lasso = sample(X_train, y_train, 200000, seed=10)  # Simulate data sparsity\n",
    "print(\"Number of samples used for training: \" + str(y_train.shape[0]))\n",
    "\n",
    "percent_reduct_lasso = 1 - X_final_ohe.shape[1] / X_EE_Full_col_names.shape[1]\n",
    "print(f'Original features: {X_EE_Full_col_names.shape[1]}, Reduced features: {X_train.shape[1]}')\n",
    "print(f'Percent Reduction: {percent_reduct_lasso:0.3%}%')"
   ],
   "id": "3b052f186de38246",
   "outputs": [
    {
     "name": "stdout",
     "output_type": "stream",
     "text": [
      "Using LASSO clusters as input\n",
      "Number of samples used for training: 200000\n",
      "Original features: 1182, Reduced features: 48\n",
      "Percent Reduction: 95.939%%\n"
     ]
    }
   ],
   "execution_count": 15
  },
  {
   "metadata": {},
   "cell_type": "markdown",
   "source": "### Neural Network - Lasso Clusters",
   "id": "9bd76a2ac9eda5a5"
  },
  {
   "metadata": {
    "ExecuteTime": {
     "end_time": "2025-04-04T00:14:37.682074Z",
     "start_time": "2025-04-04T00:06:57.771060Z"
    }
   },
   "cell_type": "code",
   "source": [
    "lasso_mape = defaultdict()\n",
    "\n",
    "models = []\n",
    "\n",
    "print(\"Fitting NN...\")\n",
    "for i in range(5):\n",
    "    models.append(NN(X_train, y_train, X_val, y_val))\n",
    "\n",
    "print(\"Evaluate combined models...\")\n",
    "print(\"Training error...\")\n",
    "r_train_lass_NN = evaluate_models(models, X_train, y_train)\n",
    "print(r_train_lass_NN)\n",
    "\n",
    "print(\"Validation error...\")\n",
    "r_val_lass_NN = evaluate_models(models, X_val, y_val)\n",
    "print(r_val_lass_NN)\n",
    "lasso_mape['NN_lasso'] = r_val_lass_NN\n"
   ],
   "id": "248353a358a050f6",
   "outputs": [
    {
     "name": "stdout",
     "output_type": "stream",
     "text": [
      "Fitting NN...\n",
      "Train on 200000 samples, validate on 84434 samples\n",
      "Epoch 1/10\n",
      "200000/200000 [==============================] - 9s 47us/step - loss: 0.0147 - val_loss: 0.0137\n",
      "Epoch 2/10\n",
      "200000/200000 [==============================] - 9s 47us/step - loss: 0.0134 - val_loss: 0.0144\n",
      "Epoch 3/10\n",
      "200000/200000 [==============================] - 9s 44us/step - loss: 0.0132 - val_loss: 0.0143\n",
      "Epoch 4/10\n",
      "200000/200000 [==============================] - 9s 46us/step - loss: 0.0131 - val_loss: 0.0151\n",
      "Epoch 5/10\n",
      "200000/200000 [==============================] - 9s 44us/step - loss: 0.0130 - val_loss: 0.0138\n",
      "Epoch 6/10\n",
      "200000/200000 [==============================] - 9s 45us/step - loss: 0.0130 - val_loss: 0.0140\n",
      "Epoch 7/10\n",
      "200000/200000 [==============================] - 9s 45us/step - loss: 0.0129 - val_loss: 0.0145\n",
      "Epoch 8/10\n",
      "200000/200000 [==============================] - 9s 45us/step - loss: 0.0129 - val_loss: 0.0145\n",
      "Epoch 9/10\n",
      "200000/200000 [==============================] - 9s 46us/step - loss: 0.0128 - val_loss: 0.0147\n",
      "Epoch 10/10\n",
      "200000/200000 [==============================] - 9s 45us/step - loss: 0.0128 - val_loss: 0.0149\n",
      "Result on validation data:  0.1785130310158335\n",
      "Train on 200000 samples, validate on 84434 samples\n",
      "Epoch 1/10\n",
      "200000/200000 [==============================] - 9s 45us/step - loss: 0.0148 - val_loss: 0.0146\n",
      "Epoch 2/10\n",
      "200000/200000 [==============================] - 9s 44us/step - loss: 0.0134 - val_loss: 0.0141\n",
      "Epoch 3/10\n",
      "200000/200000 [==============================] - 9s 45us/step - loss: 0.0132 - val_loss: 0.0144\n",
      "Epoch 4/10\n",
      "200000/200000 [==============================] - 9s 45us/step - loss: 0.0131 - val_loss: 0.0148\n",
      "Epoch 5/10\n",
      "200000/200000 [==============================] - 9s 44us/step - loss: 0.0130 - val_loss: 0.0142\n",
      "Epoch 6/10\n",
      "200000/200000 [==============================] - 9s 44us/step - loss: 0.0130 - val_loss: 0.0144\n",
      "Epoch 7/10\n",
      "200000/200000 [==============================] - 9s 44us/step - loss: 0.0129 - val_loss: 0.0141\n",
      "Epoch 8/10\n",
      "200000/200000 [==============================] - 9s 44us/step - loss: 0.0128 - val_loss: 0.0141\n",
      "Epoch 9/10\n",
      "200000/200000 [==============================] - 9s 44us/step - loss: 0.0128 - val_loss: 0.0142\n",
      "Epoch 10/10\n",
      "200000/200000 [==============================] - 9s 44us/step - loss: 0.0128 - val_loss: 0.0138\n",
      "Result on validation data:  0.155102169498604\n",
      "Train on 200000 samples, validate on 84434 samples\n",
      "Epoch 1/10\n",
      "200000/200000 [==============================] - 9s 44us/step - loss: 0.0149 - val_loss: 0.0142\n",
      "Epoch 2/10\n",
      "200000/200000 [==============================] - 9s 44us/step - loss: 0.0134 - val_loss: 0.0141\n",
      "Epoch 3/10\n",
      "200000/200000 [==============================] - 9s 44us/step - loss: 0.0132 - val_loss: 0.0140\n",
      "Epoch 4/10\n",
      "200000/200000 [==============================] - 9s 44us/step - loss: 0.0131 - val_loss: 0.0142\n",
      "Epoch 5/10\n",
      "200000/200000 [==============================] - 9s 44us/step - loss: 0.0130 - val_loss: 0.0146\n",
      "Epoch 6/10\n",
      "200000/200000 [==============================] - 9s 44us/step - loss: 0.0129 - val_loss: 0.0140\n",
      "Epoch 7/10\n",
      "200000/200000 [==============================] - 9s 44us/step - loss: 0.0129 - val_loss: 0.0140\n",
      "Epoch 8/10\n",
      "200000/200000 [==============================] - 9s 44us/step - loss: 0.0129 - val_loss: 0.0144\n",
      "Epoch 9/10\n",
      "200000/200000 [==============================] - 9s 44us/step - loss: 0.0128 - val_loss: 0.0142\n",
      "Epoch 10/10\n",
      "200000/200000 [==============================] - 9s 44us/step - loss: 0.0128 - val_loss: 0.0142\n",
      "Result on validation data:  0.15861560317765783\n",
      "Train on 200000 samples, validate on 84434 samples\n",
      "Epoch 1/10\n",
      "200000/200000 [==============================] - 9s 45us/step - loss: 0.0150 - val_loss: 0.0143\n",
      "Epoch 2/10\n",
      "200000/200000 [==============================] - 9s 44us/step - loss: 0.0134 - val_loss: 0.0145\n",
      "Epoch 3/10\n",
      "200000/200000 [==============================] - 9s 44us/step - loss: 0.0132 - val_loss: 0.0148\n",
      "Epoch 4/10\n",
      "200000/200000 [==============================] - 9s 45us/step - loss: 0.0131 - val_loss: 0.0141\n",
      "Epoch 5/10\n",
      "200000/200000 [==============================] - 9s 45us/step - loss: 0.0130 - val_loss: 0.0142\n",
      "Epoch 6/10\n",
      "200000/200000 [==============================] - 9s 44us/step - loss: 0.0130 - val_loss: 0.0138\n",
      "Epoch 7/10\n",
      "200000/200000 [==============================] - 9s 44us/step - loss: 0.0129 - val_loss: 0.0144\n",
      "Epoch 8/10\n",
      "200000/200000 [==============================] - 9s 44us/step - loss: 0.0129 - val_loss: 0.0140\n",
      "Epoch 9/10\n",
      "200000/200000 [==============================] - 9s 44us/step - loss: 0.0128 - val_loss: 0.0140\n",
      "Epoch 10/10\n",
      "200000/200000 [==============================] - 9s 44us/step - loss: 0.0128 - val_loss: 0.0144\n",
      "Result on validation data:  0.17050337706575902\n",
      "Train on 200000 samples, validate on 84434 samples\n",
      "Epoch 1/10\n",
      "200000/200000 [==============================] - 9s 44us/step - loss: 0.0148 - val_loss: 0.0174\n",
      "Epoch 2/10\n",
      "200000/200000 [==============================] - 9s 44us/step - loss: 0.0134 - val_loss: 0.0142\n",
      "Epoch 3/10\n",
      "200000/200000 [==============================] - 9s 44us/step - loss: 0.0132 - val_loss: 0.0141\n",
      "Epoch 4/10\n",
      "200000/200000 [==============================] - 9s 44us/step - loss: 0.0131 - val_loss: 0.0140\n",
      "Epoch 5/10\n",
      "200000/200000 [==============================] - 9s 44us/step - loss: 0.0130 - val_loss: 0.0140\n",
      "Epoch 6/10\n",
      "200000/200000 [==============================] - 9s 44us/step - loss: 0.0129 - val_loss: 0.0139\n",
      "Epoch 7/10\n",
      "200000/200000 [==============================] - 9s 44us/step - loss: 0.0129 - val_loss: 0.0144\n",
      "Epoch 8/10\n",
      "200000/200000 [==============================] - 9s 44us/step - loss: 0.0129 - val_loss: 0.0141\n",
      "Epoch 9/10\n",
      "200000/200000 [==============================] - 9s 44us/step - loss: 0.0129 - val_loss: 0.0144\n",
      "Epoch 10/10\n",
      "200000/200000 [==============================] - 9s 44us/step - loss: 0.0128 - val_loss: 0.0149\n",
      "Result on validation data:  0.16549542049127144\n",
      "Evaluate combined models...\n",
      "Training error...\n",
      "0.1383275957690504\n",
      "Validation error...\n",
      "0.15966993233107052\n"
     ]
    }
   ],
   "execution_count": 17
  },
  {
   "metadata": {},
   "cell_type": "markdown",
   "source": "### Random Forest - Lasso Clusters",
   "id": "79139cbc2b708c57"
  },
  {
   "metadata": {
    "ExecuteTime": {
     "end_time": "2025-04-04T00:14:58.752904Z",
     "start_time": "2025-04-04T00:14:37.741800Z"
    }
   },
   "cell_type": "code",
   "source": [
    "models = []\n",
    "\n",
    "print(\"Fitting RF...\")\n",
    "models.append(RF(X_train, y_train, X_val, y_val))\n",
    "\n",
    "print(\"Evaluate combined models...\")\n",
    "print(\"Training error...\")\n",
    "r_train_lass_rf = evaluate_models(models, X_train, y_train)\n",
    "print(r_train_lass_rf)\n",
    "\n",
    "print(\"Validation error...\")\n",
    "r_val_lass_rf = evaluate_models(models, X_val, y_val)\n",
    "print(r_val_lass_rf)\n",
    "\n",
    "lasso_mape['rf_lasso'] = r_val_lass_rf"
   ],
   "id": "cfdd0d72ab0a3d52",
   "outputs": [
    {
     "name": "stdout",
     "output_type": "stream",
     "text": [
      "Fitting RF...\n"
     ]
    },
    {
     "name": "stderr",
     "output_type": "stream",
     "text": [
      "[Parallel(n_jobs=-1)]: Using backend ThreadingBackend with 20 concurrent workers.\n",
      "[Parallel(n_jobs=-1)]: Done  10 tasks      | elapsed:    1.7s\n",
      "[Parallel(n_jobs=-1)]: Done 160 tasks      | elapsed:   16.7s\n",
      "[Parallel(n_jobs=-1)]: Done 200 out of 200 | elapsed:   19.7s finished\n",
      "[Parallel(n_jobs=20)]: Using backend ThreadingBackend with 20 concurrent workers.\n",
      "[Parallel(n_jobs=20)]: Done  10 tasks      | elapsed:    0.0s\n",
      "[Parallel(n_jobs=20)]: Done 160 tasks      | elapsed:    0.0s\n",
      "[Parallel(n_jobs=20)]: Done 200 out of 200 | elapsed:    0.0s finished\n"
     ]
    },
    {
     "name": "stdout",
     "output_type": "stream",
     "text": [
      "Result on validation data:  0.15742579711274782\n",
      "Evaluate combined models...\n",
      "Training error...\n"
     ]
    },
    {
     "name": "stderr",
     "output_type": "stream",
     "text": [
      "[Parallel(n_jobs=20)]: Using backend ThreadingBackend with 20 concurrent workers.\n",
      "[Parallel(n_jobs=20)]: Done  10 tasks      | elapsed:    0.0s\n",
      "[Parallel(n_jobs=20)]: Done 160 tasks      | elapsed:    0.3s\n",
      "[Parallel(n_jobs=20)]: Done 200 out of 200 | elapsed:    0.4s finished\n",
      "[Parallel(n_jobs=20)]: Using backend ThreadingBackend with 20 concurrent workers.\n",
      "[Parallel(n_jobs=20)]: Done  10 tasks      | elapsed:    0.0s\n"
     ]
    },
    {
     "name": "stdout",
     "output_type": "stream",
     "text": [
      "0.13339898041422285\n",
      "Validation error...\n",
      "0.1574257971127478\n"
     ]
    },
    {
     "name": "stderr",
     "output_type": "stream",
     "text": [
      "[Parallel(n_jobs=20)]: Done 160 tasks      | elapsed:    0.0s\n",
      "[Parallel(n_jobs=20)]: Done 200 out of 200 | elapsed:    0.0s finished\n"
     ]
    }
   ],
   "execution_count": 18
  },
  {
   "metadata": {},
   "cell_type": "markdown",
   "source": "### XGBoost - Lasso Clusters",
   "id": "a0f63232c20595fe"
  },
  {
   "metadata": {},
   "cell_type": "code",
   "source": [
    "models = []\n",
    "\n",
    "print(\"Fitting XGBoost...\")\n",
    "models.append(XGBoost(X_train, y_train, X_val, y_val))\n",
    "\n",
    "print(\"Evaluate combined models...\")\n",
    "print(\"Training error...\")\n",
    "r_train_lass_xg = evaluate_models(models, X_train, y_train)\n",
    "print(r_train_lass_xg)\n",
    "\n",
    "print(\"Validation error...\")\n",
    "r_val_lass_xg = evaluate_models(models, X_val, y_val)\n",
    "print(r_val_lass_xg)\n",
    "\n",
    "lasso_mape['xg_lasso'] = r_val_lass_xg"
   ],
   "id": "1e459b9bd0f2b954",
   "outputs": [],
   "execution_count": null
  },
  {
   "metadata": {},
   "cell_type": "markdown",
   "source": "### KNN - Lasso Clusters",
   "id": "1dee63ff0dd50e6f"
  },
  {
   "metadata": {
    "ExecuteTime": {
     "end_time": "2025-04-04T00:29:11.868055Z",
     "start_time": "2025-04-04T00:17:36.197773Z"
    }
   },
   "cell_type": "code",
   "source": [
    "models = []\n",
    "\n",
    "print(\"Fitting KNN...\")\n",
    "models.append(KNN(X_train, y_train, X_val, y_val))\n",
    "\n",
    "print(\"Validation error...\")\n",
    "r_val_lass_knn = evaluate_models(models, X_val, y_val)\n",
    "print(r_val_lass_knn)\n",
    "\n",
    "lasso_mape['knn_lasso'] = r_val_lass_knn\n"
   ],
   "id": "a3fa2c7640e23214",
   "outputs": [
    {
     "name": "stdout",
     "output_type": "stream",
     "text": [
      "Fitting KNN...\n",
      "Initializing normalizer...\n",
      "Initializing KNN model with n_neighbors=10, p=1, weights='distance'...\n",
      "Fitting KNN model on training data...\n",
      "Evaluating model on validation data...\n",
      "Making a prediction...\n",
      "Result on validation data: 0.16828723747426982\n",
      "Validation error...\n",
      "Making a prediction...\n",
      "0.16719155455600426\n"
     ]
    }
   ],
   "execution_count": 20
  },
  {
   "metadata": {},
   "cell_type": "markdown",
   "source": "# Train Using Entity Embeddings",
   "id": "a9192d8741461abc"
  },
  {
   "metadata": {
    "ExecuteTime": {
     "end_time": "2025-04-04T00:29:17.170934Z",
     "start_time": "2025-04-04T00:29:11.968120Z"
    }
   },
   "cell_type": "code",
   "source": [
    "#from models import *\n",
    "sys.setrecursionlimit(10000)\n",
    "\n",
    "train_ratio = 0.9\n",
    "shuffle_data = False\n",
    "one_hot_as_input = False\n",
    "embeddings_as_input = True\n",
    "save_embeddings = False\n",
    "saved_embeddings_fname = \"embeddings.pickle\"  # set save_embeddings to True to create this file\n",
    "\n",
    "f = open('feature_train_data.pickle', 'rb')\n",
    "(X, y) = pickle.load(f)\n",
    "\n",
    "num_records = len(X)\n",
    "train_size = int(train_ratio * num_records)\n",
    "\n",
    "if shuffle_data:\n",
    "    print(\"Using shuffled data\")\n",
    "    sh = np.arange(X.shape[0])\n",
    "    np.random.shuffle(sh)\n",
    "    X = X[sh]\n",
    "    y = y[sh]\n",
    "\n",
    "if embeddings_as_input:\n",
    "    print(\"Using learned embeddings as input\")\n",
    "    X = embed_features(X, saved_embeddings_fname)\n",
    "\n",
    "if one_hot_as_input:\n",
    "    print(\"Using one-hot encoding as input\")\n",
    "    enc = OneHotEncoder(sparse=False)\n",
    "    enc.fit(X)\n",
    "    X = enc.transform(X)\n",
    "\n",
    "if X.shape[1] == 1183:\n",
    "    X = X[:, 1:]\n",
    "elif X.shape[1] == 8:\n",
    "    X = X[:, 1:]\n",
    "\n",
    "X_train_ee = X[:train_size]\n",
    "X_val_ee = X[train_size:]\n",
    "y_train_ee = y[:train_size]\n",
    "y_val_ee = y[train_size:]\n",
    "\n",
    "\n",
    "X_train_ee, y_train_ee, idx_ee, seed_ee = sample(X_train_ee, y_train_ee, 200000, seed=10)\n",
    "#assert(seed_ee == seed_lasso)\n",
    "print(\"Number of samples used for training: \" + str(y_train_ee.shape[0]))\n",
    "\n",
    "percent_reduct_ee = 1 - X_train_ee.shape[1] / X_EE_Full_col_names.shape[1]\n",
    "print(f'Original features: {X_EE_Full_col_names.shape[1]}, Reduced features: {X_train_ee.shape[1]}')\n",
    "print(f'Percent Reduction: {percent_reduct_ee:0.3%}%')"
   ],
   "id": "214f3cfb58cf829d",
   "outputs": [
    {
     "name": "stdout",
     "output_type": "stream",
     "text": [
      "Using learned embeddings as input\n",
      "Number of samples used for training: 200000\n",
      "Original features: 1182, Reduced features: 42\n",
      "Percent Reduction: 96.447%%\n"
     ]
    }
   ],
   "execution_count": 21
  },
  {
   "metadata": {},
   "cell_type": "markdown",
   "source": "### Neural Network - EE",
   "id": "a7ea35ac7395cbe8"
  },
  {
   "metadata": {
    "ExecuteTime": {
     "end_time": "2025-04-04T00:37:30.991212Z",
     "start_time": "2025-04-04T00:29:17.170934Z"
    }
   },
   "cell_type": "code",
   "source": [
    "#assert(seed_ee == seed_lasso)\n",
    "ee_mape = defaultdict()\n",
    "models = []\n",
    "\n",
    "print(\"Fitting NN...\")\n",
    "for i in range(5):\n",
    "    models.append(NN(X_train_ee, y_train_ee, X_val_ee, y_val_ee))\n",
    "\n",
    "print(\"evaluate combined models...\")\n",
    "print(\"Training error...\")\n",
    "r_train_ee_NN = evaluate_models(models, X_train_ee, y_train_ee)\n",
    "print(r_train_ee_NN)\n",
    "\n",
    "print(\"validation error...\")\n",
    "r_val_ee_NN = evaluate_models(models, X_val_ee, y_val_ee)\n",
    "print(r_val_ee_NN)\n",
    "ee_mape['NN_ee'] = r_val_ee_NN\n"
   ],
   "id": "4ceacb9a6bf22a09",
   "outputs": [
    {
     "name": "stdout",
     "output_type": "stream",
     "text": [
      "Fitting NN...\n",
      "Train on 200000 samples, validate on 84434 samples\n",
      "Epoch 1/10\n",
      "200000/200000 [==============================] - 10s 49us/step - loss: 0.0103 - val_loss: 0.0095\n",
      "Epoch 2/10\n",
      "200000/200000 [==============================] - 10s 48us/step - loss: 0.0078 - val_loss: 0.0097\n",
      "Epoch 3/10\n",
      "200000/200000 [==============================] - 10s 48us/step - loss: 0.0075 - val_loss: 0.0095\n",
      "Epoch 4/10\n",
      "200000/200000 [==============================] - 10s 49us/step - loss: 0.0072 - val_loss: 0.0095\n",
      "Epoch 5/10\n",
      "200000/200000 [==============================] - 10s 50us/step - loss: 0.0072 - val_loss: 0.0095\n",
      "Epoch 6/10\n",
      "200000/200000 [==============================] - 10s 49us/step - loss: 0.0070 - val_loss: 0.0095\n",
      "Epoch 7/10\n",
      "200000/200000 [==============================] - 10s 49us/step - loss: 0.0069 - val_loss: 0.0091\n",
      "Epoch 8/10\n",
      "200000/200000 [==============================] - 10s 49us/step - loss: 0.0069 - val_loss: 0.0100\n",
      "Epoch 9/10\n",
      "200000/200000 [==============================] - 10s 48us/step - loss: 0.0068 - val_loss: 0.0093\n",
      "Epoch 10/10\n",
      "200000/200000 [==============================] - 10s 49us/step - loss: 0.0067 - val_loss: 0.0093\n",
      "Result on validation data:  0.09911181063979085\n",
      "Train on 200000 samples, validate on 84434 samples\n",
      "Epoch 1/10\n",
      "200000/200000 [==============================] - 10s 48us/step - loss: 0.0105 - val_loss: 0.0097\n",
      "Epoch 2/10\n",
      "200000/200000 [==============================] - 10s 48us/step - loss: 0.0078 - val_loss: 0.0094\n",
      "Epoch 3/10\n",
      "200000/200000 [==============================] - 10s 48us/step - loss: 0.0074 - val_loss: 0.0092\n",
      "Epoch 4/10\n",
      "200000/200000 [==============================] - 10s 48us/step - loss: 0.0073 - val_loss: 0.0093\n",
      "Epoch 5/10\n",
      "200000/200000 [==============================] - 10s 48us/step - loss: 0.0071 - val_loss: 0.0094\n",
      "Epoch 6/10\n",
      "200000/200000 [==============================] - 10s 48us/step - loss: 0.0070 - val_loss: 0.0091\n",
      "Epoch 7/10\n",
      "200000/200000 [==============================] - 10s 48us/step - loss: 0.0069 - val_loss: 0.0090\n",
      "Epoch 8/10\n",
      "200000/200000 [==============================] - 10s 48us/step - loss: 0.0068 - val_loss: 0.0093\n",
      "Epoch 9/10\n",
      "200000/200000 [==============================] - 10s 48us/step - loss: 0.0068 - val_loss: 0.0092\n",
      "Epoch 10/10\n",
      "200000/200000 [==============================] - 10s 48us/step - loss: 0.0067 - val_loss: 0.0092\n",
      "Result on validation data:  0.0968005865896918\n",
      "Train on 200000 samples, validate on 84434 samples\n",
      "Epoch 1/10\n",
      "200000/200000 [==============================] - 9s 47us/step - loss: 0.0104 - val_loss: 0.0098\n",
      "Epoch 2/10\n",
      "200000/200000 [==============================] - 9s 47us/step - loss: 0.0077 - val_loss: 0.0093\n",
      "Epoch 3/10\n",
      "200000/200000 [==============================] - 9s 47us/step - loss: 0.0075 - val_loss: 0.0095\n",
      "Epoch 4/10\n",
      "200000/200000 [==============================] - 9s 47us/step - loss: 0.0073 - val_loss: 0.0094\n",
      "Epoch 5/10\n",
      "200000/200000 [==============================] - 9s 47us/step - loss: 0.0071 - val_loss: 0.0094\n",
      "Epoch 6/10\n",
      "200000/200000 [==============================] - 9s 47us/step - loss: 0.0070 - val_loss: 0.0093\n",
      "Epoch 7/10\n",
      "200000/200000 [==============================] - 9s 47us/step - loss: 0.0069 - val_loss: 0.0094\n",
      "Epoch 8/10\n",
      "200000/200000 [==============================] - 9s 46us/step - loss: 0.0069 - val_loss: 0.0094\n",
      "Epoch 9/10\n",
      "200000/200000 [==============================] - 9s 47us/step - loss: 0.0068 - val_loss: 0.0092\n",
      "Epoch 10/10\n",
      "200000/200000 [==============================] - 9s 47us/step - loss: 0.0067 - val_loss: 0.0094\n",
      "Result on validation data:  0.09911123132291787\n",
      "Train on 200000 samples, validate on 84434 samples\n",
      "Epoch 1/10\n",
      "200000/200000 [==============================] - 9s 47us/step - loss: 0.0103 - val_loss: 0.0094\n",
      "Epoch 2/10\n",
      "200000/200000 [==============================] - 9s 46us/step - loss: 0.0077 - val_loss: 0.0096\n",
      "Epoch 3/10\n",
      "200000/200000 [==============================] - 9s 46us/step - loss: 0.0075 - val_loss: 0.0091\n",
      "Epoch 4/10\n",
      "200000/200000 [==============================] - 9s 46us/step - loss: 0.0072 - val_loss: 0.0093\n",
      "Epoch 5/10\n",
      "200000/200000 [==============================] - 9s 46us/step - loss: 0.0071 - val_loss: 0.0102\n",
      "Epoch 6/10\n",
      "200000/200000 [==============================] - 9s 47us/step - loss: 0.0070 - val_loss: 0.0093\n",
      "Epoch 7/10\n",
      "200000/200000 [==============================] - 10s 48us/step - loss: 0.0069 - val_loss: 0.0091\n",
      "Epoch 8/10\n",
      "200000/200000 [==============================] - 10s 51us/step - loss: 0.0068 - val_loss: 0.0091\n",
      "Epoch 9/10\n",
      "200000/200000 [==============================] - 10s 51us/step - loss: 0.0068 - val_loss: 0.0092\n",
      "Epoch 10/10\n",
      "200000/200000 [==============================] - 10s 48us/step - loss: 0.0067 - val_loss: 0.0092\n",
      "Result on validation data:  0.09652723373918556\n",
      "Train on 200000 samples, validate on 84434 samples\n",
      "Epoch 1/10\n",
      "200000/200000 [==============================] - 10s 48us/step - loss: 0.0106 - val_loss: 0.0105\n",
      "Epoch 2/10\n",
      "200000/200000 [==============================] - 10s 48us/step - loss: 0.0077 - val_loss: 0.0097\n",
      "Epoch 3/10\n",
      "200000/200000 [==============================] - 10s 49us/step - loss: 0.0074 - val_loss: 0.0096\n",
      "Epoch 4/10\n",
      "200000/200000 [==============================] - 9s 47us/step - loss: 0.0072 - val_loss: 0.0091\n",
      "Epoch 5/10\n",
      "200000/200000 [==============================] - 9s 47us/step - loss: 0.0071 - val_loss: 0.0094\n",
      "Epoch 6/10\n",
      "200000/200000 [==============================] - 10s 48us/step - loss: 0.0071 - val_loss: 0.0093\n",
      "Epoch 7/10\n",
      "200000/200000 [==============================] - 9s 46us/step - loss: 0.0069 - val_loss: 0.0089\n",
      "Epoch 8/10\n",
      "200000/200000 [==============================] - 9s 46us/step - loss: 0.0069 - val_loss: 0.0090\n",
      "Epoch 9/10\n",
      "200000/200000 [==============================] - 9s 46us/step - loss: 0.0068 - val_loss: 0.0089\n",
      "Epoch 10/10\n",
      "200000/200000 [==============================] - 9s 46us/step - loss: 0.0067 - val_loss: 0.0092\n",
      "Result on validation data:  0.09772275027973269\n",
      "evaluate combined models...\n",
      "Training error...\n",
      "0.06650894746528382\n",
      "validation error...\n",
      "0.0947012315699092\n"
     ]
    }
   ],
   "execution_count": 22
  },
  {
   "metadata": {},
   "cell_type": "markdown",
   "source": "### Random Forest - EE",
   "id": "592ecc4be0e4d138"
  },
  {
   "metadata": {
    "ExecuteTime": {
     "end_time": "2025-04-04T00:38:07.577976Z",
     "start_time": "2025-04-04T00:37:31.115422Z"
    }
   },
   "cell_type": "code",
   "source": [
    "models = []\n",
    "\n",
    "print(\"Fitting RF...\")\n",
    "models.append(RF(X_train_ee, y_train_ee, X_val_ee, y_val_ee))\n",
    "\n",
    "print(\"evaluate combined models...\")\n",
    "print(\"Training error...\")\n",
    "r_train_ee_rf = evaluate_models(models, X_train_ee, y_train_ee)\n",
    "print(r_train_ee_rf)\n",
    "\n",
    "print(\"validation error...\")\n",
    "r_val_ee_rf = evaluate_models(models, X_val_ee, y_val_ee)\n",
    "print(r_val_ee_rf)\n",
    "\n",
    "ee_mape['rf_ee'] = r_val_ee_rf"
   ],
   "id": "9f54a468f828052b",
   "outputs": [
    {
     "name": "stdout",
     "output_type": "stream",
     "text": [
      "Fitting RF...\n"
     ]
    },
    {
     "name": "stderr",
     "output_type": "stream",
     "text": [
      "[Parallel(n_jobs=-1)]: Using backend ThreadingBackend with 20 concurrent workers.\n",
      "[Parallel(n_jobs=-1)]: Done  10 tasks      | elapsed:    3.5s\n",
      "[Parallel(n_jobs=-1)]: Done 160 tasks      | elapsed:   27.0s\n",
      "[Parallel(n_jobs=-1)]: Done 200 out of 200 | elapsed:   33.0s finished\n",
      "[Parallel(n_jobs=20)]: Using backend ThreadingBackend with 20 concurrent workers.\n",
      "[Parallel(n_jobs=20)]: Done  10 tasks      | elapsed:    0.0s\n",
      "[Parallel(n_jobs=20)]: Done 160 tasks      | elapsed:    0.3s\n",
      "[Parallel(n_jobs=20)]: Done 200 out of 200 | elapsed:    0.3s finished\n",
      "[Parallel(n_jobs=20)]: Using backend ThreadingBackend with 20 concurrent workers.\n"
     ]
    },
    {
     "name": "stdout",
     "output_type": "stream",
     "text": [
      "Result on validation data:  0.10521072346095404\n",
      "evaluate combined models...\n",
      "Training error...\n"
     ]
    },
    {
     "name": "stderr",
     "output_type": "stream",
     "text": [
      "[Parallel(n_jobs=20)]: Done  10 tasks      | elapsed:    0.1s\n",
      "[Parallel(n_jobs=20)]: Done 160 tasks      | elapsed:    1.7s\n",
      "[Parallel(n_jobs=20)]: Done 200 out of 200 | elapsed:    2.1s finished\n",
      "[Parallel(n_jobs=20)]: Using backend ThreadingBackend with 20 concurrent workers.\n",
      "[Parallel(n_jobs=20)]: Done  10 tasks      | elapsed:    0.0s\n"
     ]
    },
    {
     "name": "stdout",
     "output_type": "stream",
     "text": [
      "0.02743802686811462\n",
      "validation error...\n",
      "0.10521072346095404\n"
     ]
    },
    {
     "name": "stderr",
     "output_type": "stream",
     "text": [
      "[Parallel(n_jobs=20)]: Done 160 tasks      | elapsed:    0.2s\n",
      "[Parallel(n_jobs=20)]: Done 200 out of 200 | elapsed:    0.3s finished\n"
     ]
    }
   ],
   "execution_count": 23
  },
  {
   "metadata": {},
   "cell_type": "markdown",
   "source": "### XGBoost - EE",
   "id": "2c0c2804794cdb70"
  },
  {
   "metadata": {},
   "cell_type": "code",
   "source": [
    "models = []\n",
    "\n",
    "print(\"Fitting XGBoost...\")\n",
    "models.append(XGBoost(X_train_ee, y_train_ee, X_val_ee, y_val_ee))\n",
    "\n",
    "print(\"evaluate combined models...\")\n",
    "print(\"Training error...\")\n",
    "r_train_ee_xg = evaluate_models(models, X_train_ee, y_train_ee)\n",
    "print(r_train_ee_xg)\n",
    "\n",
    "print(\"validation error...\")\n",
    "r_val_ee_xg = evaluate_models(models, X_val_ee, y_val_ee)\n",
    "print(r_val_ee_xg)\n",
    "\n",
    "ee_mape['xg_ee'] = r_val_ee_xg"
   ],
   "id": "ed673bed2cf68763",
   "outputs": [],
   "execution_count": null
  },
  {
   "metadata": {},
   "cell_type": "markdown",
   "source": "### KNN - EE",
   "id": "158946b627a835"
  },
  {
   "metadata": {
    "ExecuteTime": {
     "end_time": "2025-04-04T01:06:44.072127Z",
     "start_time": "2025-04-04T00:42:55.888128Z"
    }
   },
   "cell_type": "code",
   "source": [
    "models = []\n",
    "\n",
    "print(\"Fitting KNN...\")\n",
    "models.append(KNN(X_train_ee, y_train_ee, X_val_ee, y_val_ee))\n",
    "\n",
    "print(\"evaluate combined models...\")\n",
    "print(\"Training error...\")\n",
    "r_train_ee_knn = evaluate_models(models, X_train_ee, y_train_ee)\n",
    "print(r_train_ee_knn)\n",
    "\n",
    "print(\"validation error...\")\n",
    "r_val_ee_knn = evaluate_models(models, X_val_ee, y_val_ee)\n",
    "print(r_val_ee_knn)\n",
    "\n",
    "ee_mape['knn_ee'] = r_val_ee_knn"
   ],
   "id": "183080d9b2351241",
   "outputs": [
    {
     "name": "stdout",
     "output_type": "stream",
     "text": [
      "Fitting KNN...\n",
      "Initializing normalizer...\n",
      "Initializing KNN model with n_neighbors=10, p=1, weights='distance'...\n",
      "Fitting KNN model on training data...\n",
      "Evaluating model on validation data...\n",
      "Making a prediction...\n",
      "Result on validation data: 0.11386260928379972\n",
      "evaluate combined models...\n",
      "Training error...\n",
      "Making a prediction...\n",
      "4.336211704276612e-16\n",
      "validation error...\n",
      "Making a prediction...\n",
      "0.11386260928379972\n"
     ]
    }
   ],
   "execution_count": 25
  },
  {
   "metadata": {},
   "cell_type": "markdown",
   "source": "# Train Using Full set",
   "id": "7edb3bc562073486"
  },
  {
   "metadata": {
    "ExecuteTime": {
     "end_time": "2025-04-04T01:06:46.280932Z",
     "start_time": "2025-04-04T01:06:44.141799Z"
    }
   },
   "cell_type": "code",
   "source": [
    "train_ratio = 0.9\n",
    "shuffle_data = False\n",
    "one_hot_as_input = True\n",
    "embeddings_as_input = False\n",
    "save_embeddings = False\n",
    "saved_embeddings_fname = \"embeddings.pickle\"  # set save_embeddings to True to create this file\n",
    "\n",
    "f = open('feature_train_data.pickle', 'rb')\n",
    "(X, y) = pickle.load(f)\n",
    "\n",
    "num_records = len(X)\n",
    "train_size = int(train_ratio * num_records)\n",
    "\n",
    "if shuffle_data:\n",
    "    print(\"Using shuffled data\")\n",
    "    sh = np.arange(X.shape[0])\n",
    "    np.random.shuffle(sh)\n",
    "    X = X[sh]\n",
    "    y = y[sh]\n",
    "\n",
    "if embeddings_as_input:\n",
    "    print(\"Using learned embeddings as input\")\n",
    "    X = embed_features(X, saved_embeddings_fname)\n",
    "\n",
    "if one_hot_as_input:\n",
    "    print(\"Using one-hot encoding as input\")\n",
    "    enc = OneHotEncoder(sparse=False)\n",
    "    enc.fit(X)\n",
    "    X = enc.transform(X)\n",
    "\n",
    "if X.shape[1] == 1183:\n",
    "    X = X[:, 1:]\n",
    "elif X.shape[1] == 8:\n",
    "    X = X[:, 1:]\n",
    "\n",
    "X_train_full = X[:train_size]\n",
    "X_val_full = X[train_size:]\n",
    "y_train_full = y[:train_size]\n",
    "y_val_full = y[train_size:]\n",
    "\n",
    "X_train_full, y_train_full, idx_full, seed_full = sample(X_train_full, y_train_full, 200000, seed=10)\n",
    "#assert(seed_full == seed_lasso == seed_ee)\n",
    "print(\"Number of samples used for training: \" + str(y_train_full.shape[0]))\n",
    "\n",
    "percent_reduct_full = 1 - X_train_full.shape[1] / X_EE_Full_col_names.shape[1]\n",
    "print(f'Original features: {X_EE_Full_col_names.shape[1]}')\n",
    "print(f'Percent Reduction: {percent_reduct_full:0.3%}%')"
   ],
   "id": "60a307a72d772a8c",
   "outputs": [
    {
     "name": "stdout",
     "output_type": "stream",
     "text": [
      "Using one-hot encoding as input\n",
      "Number of samples used for training: 200000\n",
      "Original features: 1182\n",
      "Percent Reduction: 0.000%%\n"
     ]
    }
   ],
   "execution_count": 26
  },
  {
   "metadata": {},
   "cell_type": "markdown",
   "source": "### Extract Entity Embeddings",
   "id": "d1b13b20bbc5a5e9"
  },
  {
   "metadata": {
    "ExecuteTime": {
     "end_time": "2025-04-04T01:06:46.296559Z",
     "start_time": "2025-04-04T01:06:46.280932Z"
    }
   },
   "cell_type": "code",
   "source": [
    "'''#assert(seed_full == seed_lasso == seed_ee)\n",
    "models = []\n",
    "\n",
    "print(\"Fitting NN_with_EntityEmbedding...\")\n",
    "for i in range(5):\n",
    "    models.append(NN_with_EntityEmbedding(X_train_full, y_train_full, X_val_full, y_val_full))\n",
    "\n",
    "if save_embeddings:\n",
    "    model = models[0].model\n",
    "    store_embedding = model.get_layer('store_embedding').get_weights()[0]\n",
    "    dow_embedding = model.get_layer('dow_embedding').get_weights()[0]\n",
    "    year_embedding = model.get_layer('year_embedding').get_weights()[0]\n",
    "    month_embedding = model.get_layer('month_embedding').get_weights()[0]\n",
    "    day_embedding = model.get_layer('day_embedding').get_weights()[0]\n",
    "    german_states_embedding = model.get_layer('state_embedding').get_weights()[0]\n",
    "    with open(saved_embeddings_fname, 'wb') as f:\n",
    "        pickle.dump([store_embedding, dow_embedding, year_embedding,\n",
    "                     month_embedding, day_embedding, german_states_embedding], f, -1)\n",
    "\n",
    "print(\"Evaluate combined models...\")\n",
    "print(\"Training error...\")\n",
    "r_train_full_NN = evaluate_models(models, X_train_full, y_train_full)\n",
    "print(r_train_full_NN)\n",
    "\n",
    "print(\"validation error...\")\n",
    "r_val_full_NN = evaluate_models(models, X_val_full, y_val_full)\n",
    "print(r_val_full_NN)\n",
    "full_mape['NN_full'] = r_val_full_NN'''"
   ],
   "id": "d21cd40c4e8fc5bf",
   "outputs": [
    {
     "data": {
      "text/plain": [
       "'#assert(seed_full == seed_lasso == seed_ee)\\nmodels = []\\n\\nprint(\"Fitting NN_with_EntityEmbedding...\")\\nfor i in range(5):\\n    models.append(NN_with_EntityEmbedding(X_train_full, y_train_full, X_val_full, y_val_full))\\n\\nif save_embeddings:\\n    model = models[0].model\\n    store_embedding = model.get_layer(\\'store_embedding\\').get_weights()[0]\\n    dow_embedding = model.get_layer(\\'dow_embedding\\').get_weights()[0]\\n    year_embedding = model.get_layer(\\'year_embedding\\').get_weights()[0]\\n    month_embedding = model.get_layer(\\'month_embedding\\').get_weights()[0]\\n    day_embedding = model.get_layer(\\'day_embedding\\').get_weights()[0]\\n    german_states_embedding = model.get_layer(\\'state_embedding\\').get_weights()[0]\\n    with open(saved_embeddings_fname, \\'wb\\') as f:\\n        pickle.dump([store_embedding, dow_embedding, year_embedding,\\n                     month_embedding, day_embedding, german_states_embedding], f, -1)\\n\\nprint(\"Evaluate combined models...\")\\nprint(\"Training error...\")\\nr_train_full_NN = evaluate_models(models, X_train_full, y_train_full)\\nprint(r_train_full_NN)\\n\\nprint(\"validation error...\")\\nr_val_full_NN = evaluate_models(models, X_val_full, y_val_full)\\nprint(r_val_full_NN)\\nfull_mape[\\'NN_full\\'] = r_val_full_NN'"
      ]
     },
     "execution_count": 27,
     "metadata": {},
     "output_type": "execute_result"
    }
   ],
   "execution_count": 27
  },
  {
   "metadata": {},
   "cell_type": "markdown",
   "source": "### Neural Network - Full set",
   "id": "65e1a12c2dc107bb"
  },
  {
   "metadata": {
    "ExecuteTime": {
     "end_time": "2025-04-04T01:29:10.895561Z",
     "start_time": "2025-04-04T01:06:46.353719Z"
    }
   },
   "cell_type": "code",
   "source": [
    "full_mape = defaultdict()\n",
    "#assert(seed_full == seed_lasso == seed_ee)\n",
    "models = []\n",
    "\n",
    "print(\"Fitting NN...\")\n",
    "for i in range(5):\n",
    "    models.append(NN(X_train_full, y_train_full, X_val_full, y_val_full))\n",
    "\n",
    "print(\"Evaluate combined models...\")\n",
    "print(\"Training error...\")\n",
    "r_train_full_NN = evaluate_models(models, X_train_full, y_train_full)\n",
    "print(r_train_full_NN)\n",
    "\n",
    "print(\"validation error...\")\n",
    "r_val_full_NN = evaluate_models(models, X_val_full, y_val_full)\n",
    "print(r_val_full_NN)\n",
    "full_mape['NN_full'] = r_val_full_NN"
   ],
   "id": "89737f46c1b122e",
   "outputs": [
    {
     "name": "stdout",
     "output_type": "stream",
     "text": [
      "Fitting NN...\n",
      "Train on 200000 samples, validate on 84434 samples\n",
      "Epoch 1/10\n",
      "200000/200000 [==============================] - 26s 132us/step - loss: 0.0124 - val_loss: 0.0122\n",
      "Epoch 2/10\n",
      "200000/200000 [==============================] - 26s 131us/step - loss: 0.0082 - val_loss: 0.0119\n",
      "Epoch 3/10\n",
      "200000/200000 [==============================] - 26s 132us/step - loss: 0.0072 - val_loss: 0.0102\n",
      "Epoch 4/10\n",
      "200000/200000 [==============================] - 26s 131us/step - loss: 0.0065 - val_loss: 0.0103\n",
      "Epoch 5/10\n",
      "200000/200000 [==============================] - 26s 132us/step - loss: 0.0059 - val_loss: 0.0100\n",
      "Epoch 6/10\n",
      "200000/200000 [==============================] - 26s 132us/step - loss: 0.0055 - val_loss: 0.0098\n",
      "Epoch 7/10\n",
      "200000/200000 [==============================] - 26s 131us/step - loss: 0.0051 - val_loss: 0.0099\n",
      "Epoch 8/10\n",
      "200000/200000 [==============================] - 26s 132us/step - loss: 0.0047 - val_loss: 0.0099\n",
      "Epoch 9/10\n",
      "200000/200000 [==============================] - 26s 131us/step - loss: 0.0044 - val_loss: 0.0103\n",
      "Epoch 10/10\n",
      "200000/200000 [==============================] - 26s 131us/step - loss: 0.0042 - val_loss: 0.0101\n",
      "Result on validation data:  0.11195280204505192\n",
      "Train on 200000 samples, validate on 84434 samples\n",
      "Epoch 1/10\n",
      "200000/200000 [==============================] - 26s 129us/step - loss: 0.0124 - val_loss: 0.0114\n",
      "Epoch 2/10\n",
      "200000/200000 [==============================] - 26s 128us/step - loss: 0.0081 - val_loss: 0.0107\n",
      "Epoch 3/10\n",
      "200000/200000 [==============================] - 26s 129us/step - loss: 0.0071 - val_loss: 0.0105\n",
      "Epoch 4/10\n",
      "200000/200000 [==============================] - 26s 129us/step - loss: 0.0065 - val_loss: 0.0106\n",
      "Epoch 5/10\n",
      "200000/200000 [==============================] - 26s 129us/step - loss: 0.0060 - val_loss: 0.0102\n",
      "Epoch 6/10\n",
      "200000/200000 [==============================] - 26s 129us/step - loss: 0.0055 - val_loss: 0.0100\n",
      "Epoch 7/10\n",
      "200000/200000 [==============================] - 26s 130us/step - loss: 0.0051 - val_loss: 0.0099\n",
      "Epoch 8/10\n",
      "200000/200000 [==============================] - 26s 129us/step - loss: 0.0047 - val_loss: 0.0100\n",
      "Epoch 9/10\n",
      "200000/200000 [==============================] - 26s 129us/step - loss: 0.0045 - val_loss: 0.0098\n",
      "Epoch 10/10\n",
      "200000/200000 [==============================] - 26s 129us/step - loss: 0.0042 - val_loss: 0.0099\n",
      "Result on validation data:  0.1051637438520418\n",
      "Train on 200000 samples, validate on 84434 samples\n",
      "Epoch 1/10\n",
      "200000/200000 [==============================] - 26s 129us/step - loss: 0.0123 - val_loss: 0.0108\n",
      "Epoch 2/10\n",
      "200000/200000 [==============================] - 26s 130us/step - loss: 0.0081 - val_loss: 0.0105\n",
      "Epoch 3/10\n",
      "200000/200000 [==============================] - 26s 128us/step - loss: 0.0071 - val_loss: 0.0102\n",
      "Epoch 4/10\n",
      "200000/200000 [==============================] - 26s 128us/step - loss: 0.0065 - val_loss: 0.0103\n",
      "Epoch 5/10\n",
      "200000/200000 [==============================] - 26s 129us/step - loss: 0.0059 - val_loss: 0.0103\n",
      "Epoch 6/10\n",
      "200000/200000 [==============================] - 26s 128us/step - loss: 0.0055 - val_loss: 0.0096\n",
      "Epoch 7/10\n",
      "200000/200000 [==============================] - 26s 128us/step - loss: 0.0051 - val_loss: 0.0097\n",
      "Epoch 8/10\n",
      "200000/200000 [==============================] - 26s 129us/step - loss: 0.0048 - val_loss: 0.0099\n",
      "Epoch 9/10\n",
      "200000/200000 [==============================] - 26s 129us/step - loss: 0.0045 - val_loss: 0.0100\n",
      "Epoch 10/10\n",
      "200000/200000 [==============================] - 26s 128us/step - loss: 0.0042 - val_loss: 0.0098\n",
      "Result on validation data:  0.10358760846015931\n",
      "Train on 200000 samples, validate on 84434 samples\n",
      "Epoch 1/10\n",
      "200000/200000 [==============================] - 25s 127us/step - loss: 0.0125 - val_loss: 0.0123\n",
      "Epoch 2/10\n",
      "200000/200000 [==============================] - 25s 126us/step - loss: 0.0082 - val_loss: 0.0103\n",
      "Epoch 3/10\n",
      "200000/200000 [==============================] - 25s 126us/step - loss: 0.0072 - val_loss: 0.0099\n",
      "Epoch 4/10\n",
      "200000/200000 [==============================] - 25s 126us/step - loss: 0.0065 - val_loss: 0.0102\n",
      "Epoch 5/10\n",
      "200000/200000 [==============================] - 25s 126us/step - loss: 0.0060 - val_loss: 0.0101\n",
      "Epoch 6/10\n",
      "200000/200000 [==============================] - 25s 126us/step - loss: 0.0056 - val_loss: 0.0101\n",
      "Epoch 7/10\n",
      "200000/200000 [==============================] - 25s 126us/step - loss: 0.0051 - val_loss: 0.0101\n",
      "Epoch 8/10\n",
      "200000/200000 [==============================] - 25s 127us/step - loss: 0.0048 - val_loss: 0.0103\n",
      "Epoch 9/10\n",
      "200000/200000 [==============================] - 25s 126us/step - loss: 0.0045 - val_loss: 0.0101\n",
      "Epoch 10/10\n",
      "200000/200000 [==============================] - 25s 127us/step - loss: 0.0042 - val_loss: 0.0104\n",
      "Result on validation data:  0.11494678911031583\n",
      "Train on 200000 samples, validate on 84434 samples\n",
      "Epoch 1/10\n",
      "200000/200000 [==============================] - 25s 125us/step - loss: 0.0122 - val_loss: 0.0113\n",
      "Epoch 2/10\n",
      "200000/200000 [==============================] - 25s 124us/step - loss: 0.0082 - val_loss: 0.0113\n",
      "Epoch 3/10\n",
      "200000/200000 [==============================] - 25s 125us/step - loss: 0.0072 - val_loss: 0.0107\n",
      "Epoch 4/10\n",
      "200000/200000 [==============================] - 25s 124us/step - loss: 0.0065 - val_loss: 0.0108\n",
      "Epoch 5/10\n",
      "200000/200000 [==============================] - 25s 125us/step - loss: 0.0059 - val_loss: 0.0106\n",
      "Epoch 6/10\n",
      "200000/200000 [==============================] - 25s 125us/step - loss: 0.0055 - val_loss: 0.0100\n",
      "Epoch 7/10\n",
      "200000/200000 [==============================] - 25s 124us/step - loss: 0.0051 - val_loss: 0.0100\n",
      "Epoch 8/10\n",
      "200000/200000 [==============================] - 25s 124us/step - loss: 0.0047 - val_loss: 0.0102\n",
      "Epoch 9/10\n",
      "200000/200000 [==============================] - 25s 124us/step - loss: 0.0044 - val_loss: 0.0107\n",
      "Epoch 10/10\n",
      "200000/200000 [==============================] - 25s 125us/step - loss: 0.0042 - val_loss: 0.0102\n",
      "Result on validation data:  0.11061519509989266\n",
      "Evaluate combined models...\n",
      "Training error...\n",
      "0.026469805077348384\n",
      "validation error...\n",
      "0.10078105461844004\n"
     ]
    }
   ],
   "execution_count": 28
  },
  {
   "metadata": {},
   "cell_type": "markdown",
   "source": "### Random Forest - Full set",
   "id": "4d95a0f026ebf88b"
  },
  {
   "metadata": {
    "ExecuteTime": {
     "end_time": "2025-04-04T02:06:14.368790Z",
     "start_time": "2025-04-04T01:29:11.021718Z"
    }
   },
   "cell_type": "code",
   "source": [
    "models = []\n",
    "\n",
    "print(\"Fitting RF...\")\n",
    "models.append(RF(X_train_full, y_train_full, X_val_full, y_val_full))\n",
    "\n",
    "print(\"Evaluate combined models...\")\n",
    "print(\"Training error...\")\n",
    "r_train_full_rf = evaluate_models(models, X_train_full, y_train_full)\n",
    "print(r_train_full_rf)\n",
    "\n",
    "print(\"validation error...\")\n",
    "r_val_full_rf = evaluate_models(models, X_val_full, y_val_full)\n",
    "print(r_val_full_rf)\n",
    "\n",
    "full_mape['rf_full'] = r_val_full_rf"
   ],
   "id": "41a4de951d9798f7",
   "outputs": [
    {
     "name": "stdout",
     "output_type": "stream",
     "text": [
      "Fitting RF...\n"
     ]
    },
    {
     "name": "stderr",
     "output_type": "stream",
     "text": [
      "[Parallel(n_jobs=-1)]: Using backend ThreadingBackend with 20 concurrent workers.\n",
      "[Parallel(n_jobs=-1)]: Done  10 tasks      | elapsed:  3.6min\n",
      "[Parallel(n_jobs=-1)]: Done 160 tasks      | elapsed: 30.9min\n",
      "[Parallel(n_jobs=-1)]: Done 200 out of 200 | elapsed: 37.0min finished\n",
      "[Parallel(n_jobs=20)]: Using backend ThreadingBackend with 20 concurrent workers.\n",
      "[Parallel(n_jobs=20)]: Done  10 tasks      | elapsed:    0.0s\n",
      "[Parallel(n_jobs=20)]: Done 160 tasks      | elapsed:    0.5s\n",
      "[Parallel(n_jobs=20)]: Done 200 out of 200 | elapsed:    0.6s finished\n"
     ]
    },
    {
     "name": "stdout",
     "output_type": "stream",
     "text": [
      "Result on validation data:  0.22844923682115076\n",
      "Evaluate combined models...\n",
      "Training error...\n"
     ]
    },
    {
     "name": "stderr",
     "output_type": "stream",
     "text": [
      "[Parallel(n_jobs=20)]: Using backend ThreadingBackend with 20 concurrent workers.\n",
      "[Parallel(n_jobs=20)]: Done  10 tasks      | elapsed:    0.1s\n",
      "[Parallel(n_jobs=20)]: Done 160 tasks      | elapsed:    1.9s\n",
      "[Parallel(n_jobs=20)]: Done 200 out of 200 | elapsed:    2.3s finished\n"
     ]
    },
    {
     "name": "stdout",
     "output_type": "stream",
     "text": [
      "0.22753428155848654\n",
      "validation error...\n"
     ]
    },
    {
     "name": "stderr",
     "output_type": "stream",
     "text": [
      "[Parallel(n_jobs=20)]: Using backend ThreadingBackend with 20 concurrent workers.\n",
      "[Parallel(n_jobs=20)]: Done  10 tasks      | elapsed:    0.0s\n"
     ]
    },
    {
     "name": "stdout",
     "output_type": "stream",
     "text": [
      "0.22844923682115081\n"
     ]
    },
    {
     "name": "stderr",
     "output_type": "stream",
     "text": [
      "[Parallel(n_jobs=20)]: Done 160 tasks      | elapsed:    0.5s\n",
      "[Parallel(n_jobs=20)]: Done 200 out of 200 | elapsed:    0.7s finished\n"
     ]
    }
   ],
   "execution_count": 29
  },
  {
   "metadata": {},
   "cell_type": "markdown",
   "source": "### XGBoost - Full set",
   "id": "ef4764fcdc3f7ee"
  },
  {
   "metadata": {},
   "cell_type": "code",
   "source": [
    "models = []\n",
    "\n",
    "print(\"Fitting XGBoost...\")\n",
    "models.append(XGBoost(X_train_full, y_train_full, X_val_full, y_val_full))\n",
    "\n",
    "print(\"Evaluate combined models...\")\n",
    "print(\"Training error...\")\n",
    "r_train_full_xg = evaluate_models(models, X_train_full, y_train_full)\n",
    "print(r_train_full_xg)\n",
    "\n",
    "print(\"validation error...\")\n",
    "r_val_full_xg = evaluate_models(models, X_val_full, y_val_full)\n",
    "print(r_val_full_xg)\n",
    "\n",
    "full_mape['xg_full'] = r_val_full_xg"
   ],
   "id": "abceeec7b931e43c",
   "outputs": [],
   "execution_count": null
  },
  {
   "metadata": {},
   "cell_type": "markdown",
   "source": "### KNN - Full set",
   "id": "cee7d1c8b770b69c"
  },
  {
   "metadata": {
    "ExecuteTime": {
     "end_time": "2025-04-04T09:32:13.425246Z",
     "start_time": "2025-04-04T02:44:35.232188Z"
    }
   },
   "cell_type": "code",
   "source": [
    "models = []\n",
    "\n",
    "print(\"Fitting KNN...\")\n",
    "models.append(KNN(X_train_full, y_train_full, X_val_full, y_val_full))\n",
    "\n",
    "print(\"Evaluate combined models...\")\n",
    "print(\"Training error...\")\n",
    "r_train_full_knn = evaluate_models(models, X_train_full, y_train_full)\n",
    "print(r_train_full_knn)\n",
    "\n",
    "print(\"validation error...\")\n",
    "r_val_full_knn = evaluate_models(models, X_val_full, y_val_full)\n",
    "print(r_val_full_knn)\n",
    "\n",
    "full_mape['knn_full'] = r_val_full_knn"
   ],
   "id": "c950c1ee70723fb",
   "outputs": [
    {
     "name": "stdout",
     "output_type": "stream",
     "text": [
      "Fitting KNN...\n",
      "Initializing normalizer...\n",
      "Initializing KNN model with n_neighbors=10, p=1, weights='distance'...\n",
      "Fitting KNN model on training data...\n",
      "Evaluating model on validation data...\n",
      "Making a prediction...\n",
      "Result on validation data: 0.20957339940794487\n",
      "Evaluate combined models...\n",
      "Training error...\n",
      "Making a prediction...\n",
      "4.336211704276612e-16\n",
      "validation error...\n",
      "Making a prediction...\n",
      "0.19457908005279154\n"
     ]
    }
   ],
   "execution_count": 31
  },
  {
   "metadata": {
    "ExecuteTime": {
     "end_time": "2025-03-12T04:17:06.570856800Z",
     "start_time": "2025-03-11T09:58:06.411924Z"
    }
   },
   "cell_type": "code",
   "source": [
    "from used_packages import *\n",
    "\n",
    "\"\"\"with open('mape final/mape_results_final.json', 'r') as f:\n",
    "    data = json.load(f)\n",
    "ee_mape = data['ee_mape']\n",
    "lasso_mape = data['lasso_mape']\n",
    "full_mape = data['full_mape']\"\"\"\n",
    "\n",
    "ee_mape = {k: ee_mape[k] for k in sorted(ee_mape.keys())}\n",
    "\n",
    "lasso_mape = {k: lasso_mape[k] for k in sorted(lasso_mape.keys())}\n",
    "\n",
    "full_mape = {k: full_mape[k] for k in sorted(full_mape.keys())}\n",
    "\n",
    "data = {\n",
    "    \"ee_mape\": dict(ee_mape),\n",
    "    \"lasso_mape\": dict(lasso_mape),\n",
    "    \"full_mape\": dict(full_mape),\n",
    "    \"reduction\": list([percent_reduct_ee, percent_reduct_lasso, percent_reduct_full])\n",
    "}"
   ],
   "id": "6154c7dcdee10443",
   "outputs": [],
   "execution_count": 35
  },
  {
   "metadata": {
    "ExecuteTime": {
     "end_time": "2025-03-12T04:17:06.570856800Z",
     "start_time": "2025-03-11T09:55:56.524147Z"
    }
   },
   "cell_type": "code",
   "source": [
    "# Save to a JSON file\n",
    "\"\"\"with open('mape_results_final_w_reduction.json', 'w') as f:\n",
    "    json.dump(data, f, indent=4)\"\"\""
   ],
   "id": "545d4f1beeb5d28d",
   "outputs": [],
   "execution_count": 31
  },
  {
   "metadata": {
    "ExecuteTime": {
     "end_time": "2025-04-04T09:52:48.464899Z",
     "start_time": "2025-04-04T09:52:48.366372Z"
    }
   },
   "cell_type": "code",
   "source": [
    "\"\"\"with open('mape final/mape_results_final_w_reduction.json', 'r') as f:\n",
    "    data = json.load(f)\"\"\"\n",
    "\n",
    "# Extract the MAPE dictionaries\n",
    "'''ee_mape = data[\"ee_mape\"]\n",
    "lasso_mape = data[\"lasso_mape\"]\n",
    "full_mape = data[\"full_mape\"]'''\n",
    "\n",
    "percent_reduct_ee = data['reduction'][0]\n",
    "percent_reduct_lasso = data['reduction'][1]\n",
    "percent_reduct_full = data['reduction'][2]\n",
    "\n",
    "\n",
    "models = ['NN', 'XGBoost', 'KNN', 'RF']\n",
    "k = [0, 2, 3, 1]\n",
    "lasso_values = list(lasso_mape.values())\n",
    "lasso_values = [lasso_values[i] for i in k]\n",
    "\n",
    "ee_values = list(ee_mape.values())\n",
    "ee_values = [ee_values[i] for i in k]\n",
    "\n",
    "full_values = list(full_mape.values())\n",
    "full_values = [full_values[i] for i in k]\n",
    "\n",
    "cmap = cm.get_cmap('RdBu', 15)\n",
    "\n",
    "red_color = cmap(1)\n",
    "blue_color = cmap(13)\n",
    "\n",
    "plt.figure(figsize=(5, 3))\n",
    "x_positions = range(len(models))\n",
    "\n",
    "plt.scatter(x_positions, lasso_values, color=blue_color, label='LASSO Clustering')\n",
    "plt.scatter(x_positions, ee_values, color=red_color, label='Entity Embeddings')\n",
    "plt.scatter(x_positions, full_values, color='lightgray', label='Full')\n",
    "\n",
    "plt.plot(x_positions, lasso_values, color=blue_color, linestyle='-')\n",
    "plt.plot(x_positions, ee_values, color=red_color, linestyle='-')\n",
    "plt.plot(x_positions, full_values, color='lightgray', linestyle='-')\n",
    "\n",
    "plt.xticks(x_positions, models)\n",
    "plt.ylabel('MAPE')\n",
    "plt.legend()\n",
    "#plt.savefig('results.pdf', bbox_inches='tight')\n",
    "plt.show()\n",
    "\n",
    "from tabulate import tabulate\n",
    "\n",
    "table_data = []\n",
    "for model, las, ee, full in zip(models, lasso_values, ee_values, full_values):\n",
    "    table_data.append([model, f\"{las:.4f}\", f\"{ee:.4f}\", f\"{full:.4f}\"])\n",
    "\n",
    "table_data.append(['% Reduction', f\"{percent_reduct_lasso:.2%}\", f\"{percent_reduct_ee:.2%}\", f\"{percent_reduct_full:.2%}\"])\n",
    "\n",
    "headers = [\"Model\", \"LASSO MAPE\", \"Entity Embeddings MAPE\", \"Full MAPE\"]\n",
    "print(tabulate(table_data, headers=headers, tablefmt=\"pretty\"))"
   ],
   "id": "7f2a210bf92ee6b5",
   "outputs": [
    {
     "data": {
      "text/plain": [
       "<Figure size 500x300 with 1 Axes>"
      ],
      "image/png": "[encoded data removed]"
     },
     "metadata": {},
     "output_type": "display_data"
    },
    {
     "name": "stdout",
     "output_type": "stream",
     "text": [
      "+-------------+------------+------------------------+-----------+\n",
      "|    Model    | LASSO MAPE | Entity Embeddings MAPE | Full MAPE |\n",
      "+-------------+------------+------------------------+-----------+\n",
      "|     NN      |   0.1597   |         0.0947         |  0.1008   |\n",
      "|   XGBoost   |   0.1657   |         0.1009         |  0.1562   |\n",
      "|     KNN     |   0.1672   |         0.1139         |  0.1946   |\n",
      "|     RF      |   0.1574   |         0.1052         |  0.2284   |\n",
      "| % Reduction |   95.94%   |         96.45%         |   0.00%   |\n",
      "+-------------+------------+------------------------+-----------+\n"
     ]
    }
   ],
   "execution_count": 35
  }
 ],
 "metadata": {
  "kernelspec": {
   "display_name": "Python 3",
   "language": "python",
   "name": "python3"
  },
  "language_info": {
   "codemirror_mode": {
    "name": "ipython",
    "version": 2
   },
   "file_extension": ".py",
   "mimetype": "text/x-python",
   "name": "python",
   "nbconvert_exporter": "python",
   "pygments_lexer": "ipython2",
   "version": "2.7.6"
  }
 },
 "nbformat": 4,
 "nbformat_minor": 5
}
